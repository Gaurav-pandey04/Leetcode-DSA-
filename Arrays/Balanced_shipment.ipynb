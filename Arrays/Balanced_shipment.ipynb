{
 "cells": [
  {
   "cell_type": "markdown",
   "id": "7e1380bd",
   "metadata": {},
   "source": [
    "# Balanced Shipment"
   ]
  },
  {
   "cell_type": "code",
   "execution_count": 36,
   "id": "dd32d937",
   "metadata": {},
   "outputs": [],
   "source": [
    "weight = [4, 1, 4]\n",
    "n = len(weight)\n",
    "count = 0"
   ]
  },
  {
   "cell_type": "code",
   "execution_count": 37,
   "id": "966e8305",
   "metadata": {},
   "outputs": [
    {
     "name": "stdout",
     "output_type": "stream",
     "text": [
      "1\n"
     ]
    }
   ],
   "source": [
    "prev = weight[0]\n",
    "max_weight = 0\n",
    "is_found = False\n",
    "for i in range(1, n):\n",
    "    if is_found:\n",
    "        prev = weight[i]\n",
    "        is_found = False\n",
    "        continue\n",
    "    curr = weight[i]\n",
    "    max_weight = max(max_weight, curr, prev)\n",
    "    if curr < max_weight:\n",
    "        count += 1\n",
    "        max_weight = 0\n",
    "        is_found = True\n",
    "    prev = curr\n",
    "\n",
    "print(count)"
   ]
  }
 ],
 "metadata": {
  "kernelspec": {
   "display_name": "Python 3",
   "language": "python",
   "name": "python3"
  },
  "language_info": {
   "codemirror_mode": {
    "name": "ipython",
    "version": 3
   },
   "file_extension": ".py",
   "mimetype": "text/x-python",
   "name": "python",
   "nbconvert_exporter": "python",
   "pygments_lexer": "ipython3",
   "version": "3.13.3"
  }
 },
 "nbformat": 4,
 "nbformat_minor": 5
}
