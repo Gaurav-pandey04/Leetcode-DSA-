{
 "cells": [
  {
   "cell_type": "markdown",
   "id": "efd5b941",
   "metadata": {},
   "source": [
    "# Number of zero filled Subarray"
   ]
  },
  {
   "cell_type": "markdown",
   "id": "c67635b8",
   "metadata": {},
   "source": [
    "## Brute Force O(n**3)"
   ]
  },
  {
   "cell_type": "code",
   "execution_count": null,
   "id": "7e5575b9",
   "metadata": {},
   "outputs": [
    {
     "name": "stdout",
     "output_type": "stream",
     "text": [
      "[[0, 0], [0]]\n",
      "2\n"
     ]
    }
   ],
   "source": [
    "nums = [0,0,0,2,0,0]\n",
    "result = []\n",
    "counter = 0\n",
    "for i in range(len(nums)):\n",
    "    for j in range(i, len(nums)+1):\n",
    "        isZero = False\n",
    "        for num in nums[i:j]:\n",
    "            if num == 0:\n",
    "                isZero = True\n",
    "            else:\n",
    "                isZero = False\n",
    "                break\n",
    "        if isZero:\n",
    "            result.append(nums[i:j])\n",
    "            counter += 1\n",
    "\n",
    "print(result)\n",
    "print(counter)"
   ]
  },
  {
   "cell_type": "markdown",
   "id": "75d1149c",
   "metadata": {},
   "source": [
    "## Optimised Solution O(n)"
   ]
  },
  {
   "cell_type": "code",
   "execution_count": 19,
   "id": "d4c55d81",
   "metadata": {},
   "outputs": [
    {
     "name": "stdout",
     "output_type": "stream",
     "text": [
      "9\n"
     ]
    }
   ],
   "source": [
    "nums = [0,0,0,2,0,0]\n",
    "\n",
    "streak = 0\n",
    "counter = 0\n",
    "\n",
    "for num in nums:\n",
    "    if num == 0:\n",
    "        streak += 1\n",
    "        counter += streak\n",
    "    else:\n",
    "        streak = 0\n",
    "\n",
    "print(counter)"
   ]
  }
 ],
 "metadata": {
  "kernelspec": {
   "display_name": "Python 3",
   "language": "python",
   "name": "python3"
  },
  "language_info": {
   "codemirror_mode": {
    "name": "ipython",
    "version": 3
   },
   "file_extension": ".py",
   "mimetype": "text/x-python",
   "name": "python",
   "nbconvert_exporter": "python",
   "pygments_lexer": "ipython3",
   "version": "3.13.3"
  }
 },
 "nbformat": 4,
 "nbformat_minor": 5
}
