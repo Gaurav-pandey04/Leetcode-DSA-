{
 "cells": [
  {
   "cell_type": "markdown",
   "id": "b755ee65",
   "metadata": {},
   "source": [
    "# Fruits into Baskets III"
   ]
  },
  {
   "cell_type": "markdown",
   "id": "7bb7db23",
   "metadata": {},
   "source": [
    "### Variable decalaration"
   ]
  },
  {
   "cell_type": "code",
   "execution_count": 19,
   "id": "9b308eaa",
   "metadata": {},
   "outputs": [],
   "source": [
    "from math import sqrt\n",
    "fruits = [4,2,5]\n",
    "baskets = [3,5,4]"
   ]
  },
  {
   "cell_type": "markdown",
   "id": "5adb0f85",
   "metadata": {},
   "source": [
    "### Logic"
   ]
  },
  {
   "cell_type": "code",
   "execution_count": 20,
   "id": "d2af4b87",
   "metadata": {},
   "outputs": [
    {
     "name": "stdout",
     "output_type": "stream",
     "text": [
      "[3, 5, 4]\n",
      "1\n"
     ]
    }
   ],
   "source": [
    "n = len(baskets)\n",
    "m = int(sqrt(n))\n",
    "section = (n + m - 1) // m\n",
    "count = 0\n",
    "maxV = [0] * section\n",
    "\n",
    "for i in range(n):\n",
    "    maxV[i // m] = max(maxV[i // m], baskets[i])\n",
    "\n",
    "print(maxV)\n",
    "\n",
    "for fruit in fruits:\n",
    "    unset = 1\n",
    "    for sec in range(section):\n",
    "        if maxV[sec] < fruit:\n",
    "            continue\n",
    "        choose = 0\n",
    "        maxV[sec] = 0\n",
    "        for i in range(m):\n",
    "            pos = sec * m + i\n",
    "            if pos < n and baskets[pos] >= fruit and not choose:\n",
    "                baskets[pos] = 0\n",
    "                choose = 1\n",
    "            if pos < n:\n",
    "                maxV[sec] = max(maxV[sec], baskets[pos])\n",
    "        unset = 0\n",
    "        break\n",
    "    count += unset\n",
    "\n",
    "print(count)"
   ]
  },
  {
   "cell_type": "markdown",
   "id": "7f072d10",
   "metadata": {},
   "source": [
    "### Exaplanation\n",
    "\n",
    "To optimize, we apply a square root decomposition approach.\n",
    "\n",
    "We divide the baskets array into  n blocks, each of size m = n (approximately). For each block, we maintain the maximum value in that block in an auxiliary array maxV.\n",
    "\n",
    "For each fruit, we scan these blocks block by block. There are two possibilities for a given block:\n",
    "\n",
    "- If the maximum basket capacity in the current block is less than the fruit’s quantity, we skip this block entirely.\n",
    "- If the block contains a basket that can hold the fruit (maxV[sec] >= fruit), we scan that block to find the leftmost basket that can hold the fruit, place it (set it to 0), and update the block’s maximum value.\n",
    "\n",
    "If no such basket is found after scanning all blocks, we increment the count of unplaced fruits."
   ]
  }
 ],
 "metadata": {
  "kernelspec": {
   "display_name": "Python 3",
   "language": "python",
   "name": "python3"
  },
  "language_info": {
   "codemirror_mode": {
    "name": "ipython",
    "version": 3
   },
   "file_extension": ".py",
   "mimetype": "text/x-python",
   "name": "python",
   "nbconvert_exporter": "python",
   "pygments_lexer": "ipython3",
   "version": "3.13.3"
  }
 },
 "nbformat": 4,
 "nbformat_minor": 5
}
