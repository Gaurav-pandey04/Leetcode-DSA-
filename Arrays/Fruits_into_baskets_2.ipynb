{
 "cells": [
  {
   "cell_type": "code",
   "execution_count": null,
   "id": "3e1662bd",
   "metadata": {},
   "outputs": [],
   "source": [
    "fruits = [9,7,2,6]\n",
    "baskets = [9,7,2,7]"
   ]
  },
  {
   "cell_type": "code",
   "execution_count": null,
   "id": "435c4d6c",
   "metadata": {},
   "outputs": [],
   "source": [
    "n = len(fruits)\n",
    "used = [False] * n\n",
    "unplaced = 0\n",
    "\n",
    "for i in range(n):\n",
    "    placed = False\n",
    "    for j in range(n):\n",
    "        if not used[j] and fruits[i] <= baskets[j]:\n",
    "            used[j] = True\n",
    "            placed = True\n",
    "            break\n",
    "\n",
    "    if not placed:\n",
    "        unplaced += 1\n",
    "\n",
    "print(unplaced)"
   ]
  }
 ],
 "metadata": {
  "kernelspec": {
   "display_name": "Python 3",
   "language": "python",
   "name": "python3"
  },
  "language_info": {
   "codemirror_mode": {
    "name": "ipython",
    "version": 3
   },
   "file_extension": ".py",
   "mimetype": "text/x-python",
   "name": "python",
   "nbconvert_exporter": "python",
   "pygments_lexer": "ipython3",
   "version": "3.13.3"
  }
 },
 "nbformat": 4,
 "nbformat_minor": 5
}
