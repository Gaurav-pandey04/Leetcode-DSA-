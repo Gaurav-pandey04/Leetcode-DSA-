{
 "cells": [
  {
   "cell_type": "markdown",
   "id": "245039e8",
   "metadata": {},
   "source": [
    "# Count Square Submatrices with all ones"
   ]
  },
  {
   "cell_type": "code",
   "execution_count": 13,
   "id": "7f97cb8c",
   "metadata": {},
   "outputs": [
    {
     "name": "stdout",
     "output_type": "stream",
     "text": [
      "[[0, 0, 0, 0], [0, 0, 0, 0], [0, 0, 0, 0]]\n",
      "[[0, 1, 1, 1], [1, 1, 2, 2], [0, 1, 2, 3]]\n",
      "15\n"
     ]
    }
   ],
   "source": [
    "matrix =[\n",
    "  [0,1,1,1],\n",
    "  [1,1,1,1],\n",
    "  [0,1,1,1]\n",
    "]\n",
    "\n",
    "m, n =len(matrix), len(matrix[0])\n",
    "dp = [[0] * n for _ in range(m)]\n",
    "print(dp)\n",
    "total = 0\n",
    "\n",
    "for i in range(m):\n",
    "    for j in range(n):\n",
    "        if matrix[i][j] == 1:\n",
    "            if i==0 or j==0:\n",
    "                dp[i][j] = 1\n",
    "            else:\n",
    "                dp[i][j] = 1 + min(dp[i-1][j], dp[i][j-1], dp[i-1][j-1])\n",
    "            total += dp[i][j]\n",
    "\n",
    "print(dp)\n",
    "print(total)"
   ]
  }
 ],
 "metadata": {
  "kernelspec": {
   "display_name": "Python 3",
   "language": "python",
   "name": "python3"
  },
  "language_info": {
   "codemirror_mode": {
    "name": "ipython",
    "version": 3
   },
   "file_extension": ".py",
   "mimetype": "text/x-python",
   "name": "python",
   "nbconvert_exporter": "python",
   "pygments_lexer": "ipython3",
   "version": "3.13.3"
  }
 },
 "nbformat": 4,
 "nbformat_minor": 5
}
