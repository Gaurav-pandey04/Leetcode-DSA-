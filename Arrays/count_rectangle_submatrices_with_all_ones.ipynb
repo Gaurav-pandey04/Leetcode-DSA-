{
 "cells": [
  {
   "cell_type": "markdown",
   "id": "c4ec7c2f",
   "metadata": {},
   "source": [
    "# Count rectangle submatrice with all ones "
   ]
  },
  {
   "cell_type": "code",
   "execution_count": null,
   "id": "0e2d85a5",
   "metadata": {},
   "outputs": [
    {
     "name": "stdout",
     "output_type": "stream",
     "text": [
      "24 [1, 3, 3, 0]\n"
     ]
    }
   ],
   "source": [
    "mat = [[0,1,1,0],[0,1,1,1],[1,1,1,0]]\n",
    "\n",
    "m, n = len(mat), len(mat[0])\n",
    "height = [0]*n\n",
    "total = 0\n",
    "\n",
    "for i in range(m):\n",
    "    for j in range(n):\n",
    "        height[j] = height[j] + 1 if mat[i][j] else 0\n",
    "\n",
    "        min_height = height[j]\n",
    "        for k in range(j, -1, -1):\n",
    "            if height[k] == 0: break\n",
    "            min_height = min(min_height, height[k])\n",
    "            total += min_height\n",
    "m\n",
    "print(total, height)"
   ]
  }
 ],
 "metadata": {
  "kernelspec": {
   "display_name": "Python 3",
   "language": "python",
   "name": "python3"
  },
  "language_info": {
   "codemirror_mode": {
    "name": "ipython",
    "version": 3
   },
   "file_extension": ".py",
   "mimetype": "text/x-python",
   "name": "python",
   "nbconvert_exporter": "python",
   "pygments_lexer": "ipython3",
   "version": "3.13.3"
  }
 },
 "nbformat": 4,
 "nbformat_minor": 5
}
