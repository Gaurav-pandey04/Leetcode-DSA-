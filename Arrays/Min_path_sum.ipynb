{
 "cells": [
  {
   "cell_type": "markdown",
   "id": "3dea8e37",
   "metadata": {},
   "source": [
    "# Triangle"
   ]
  },
  {
   "cell_type": "code",
   "execution_count": 9,
   "id": "74ece7ae",
   "metadata": {},
   "outputs": [
    {
     "name": "stdout",
     "output_type": "stream",
     "text": [
      "Minimum path:  -1\n"
     ]
    }
   ],
   "source": [
    "triangle = [[-1],[2,3],[1,-1,-3]]\n",
    "\n",
    "dp = triangle[-1][:]\n",
    "\n",
    "for row in range(len(triangle)-2, -1, -1):\n",
    "    for i in range(len(triangle[row])):\n",
    "        dp[i] = triangle[row][i] + min(dp[i], dp[i+1])\n",
    "\n",
    "print(\"Minimum path: \", dp[0])"
   ]
  }
 ],
 "metadata": {
  "kernelspec": {
   "display_name": "Python 3",
   "language": "python",
   "name": "python3"
  },
  "language_info": {
   "codemirror_mode": {
    "name": "ipython",
    "version": 3
   },
   "file_extension": ".py",
   "mimetype": "text/x-python",
   "name": "python",
   "nbconvert_exporter": "python",
   "pygments_lexer": "ipython3",
   "version": "3.13.3"
  }
 },
 "nbformat": 4,
 "nbformat_minor": 5
}
