{
 "cells": [
  {
   "cell_type": "markdown",
   "id": "d2398630",
   "metadata": {},
   "source": [
    "# Diagnoal Traverse"
   ]
  },
  {
   "cell_type": "code",
   "execution_count": 1,
   "id": "0b663837",
   "metadata": {},
   "outputs": [
    {
     "name": "stdout",
     "output_type": "stream",
     "text": [
      "[1, 2, 4, 7, 5, 3, 6, 8, 9]\n"
     ]
    }
   ],
   "source": [
    "mat = [[1,2,3],[4,5,6],[7,8,9]]\n",
    "\n",
    "if not mat or not mat[0]:\n",
    "    print([])\n",
    "        \n",
    "m, n = len(mat), len(mat[0])\n",
    "res = []\n",
    "row, col = 0, 0\n",
    "up = True   # direction flag\n",
    "\n",
    "for _ in range(m * n):\n",
    "    res.append(mat[row][col])\n",
    "    \n",
    "    if up:  # moving up-right\n",
    "        if col == n - 1:\n",
    "            row += 1\n",
    "            up = False\n",
    "        elif row == 0:\n",
    "            col += 1\n",
    "            up = False\n",
    "        else:\n",
    "            row -= 1\n",
    "            col += 1\n",
    "    else:   # moving down-left\n",
    "        if row == m - 1:\n",
    "            col += 1\n",
    "            up = True\n",
    "        elif col == 0:\n",
    "            row += 1\n",
    "            up = True\n",
    "        else:\n",
    "            row += 1\n",
    "            col -= 1\n",
    "\n",
    "print(res)"
   ]
  }
 ],
 "metadata": {
  "kernelspec": {
   "display_name": "Python 3",
   "language": "python",
   "name": "python3"
  },
  "language_info": {
   "codemirror_mode": {
    "name": "ipython",
    "version": 3
   },
   "file_extension": ".py",
   "mimetype": "text/x-python",
   "name": "python",
   "nbconvert_exporter": "python",
   "pygments_lexer": "ipython3",
   "version": "3.13.3"
  }
 },
 "nbformat": 4,
 "nbformat_minor": 5
}
