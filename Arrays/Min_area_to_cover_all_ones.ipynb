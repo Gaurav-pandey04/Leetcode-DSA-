{
 "cells": [
  {
   "cell_type": "markdown",
   "id": "e02def14",
   "metadata": {},
   "source": [
    "# Minimum Area to cover all Ones I"
   ]
  },
  {
   "cell_type": "code",
   "execution_count": 1,
   "id": "738b355f",
   "metadata": {},
   "outputs": [
    {
     "name": "stdout",
     "output_type": "stream",
     "text": [
      "6\n"
     ]
    }
   ],
   "source": [
    "grid = [[0,1,0],[1,0,1]]\n",
    "\n",
    "rows, cols = len(grid), len(grid[0])\n",
    "\n",
    "minrows, maxrows = rows, -1\n",
    "mincols, maxcols = cols, -1\n",
    "\n",
    "for i in range(rows):\n",
    "    for j in range(cols):\n",
    "        if grid[i][j] == 1:\n",
    "            minrows = min(minrows, i)\n",
    "            maxrows = max(maxrows, i)\n",
    "            mincols = min(mincols, j)\n",
    "            maxcols = max(maxcols, j)\n",
    "\n",
    "heights = maxrows - minrows + 1\n",
    "breadth = maxcols - mincols + 1\n",
    "\n",
    "print(heights*breadth)"
   ]
  }
 ],
 "metadata": {
  "kernelspec": {
   "display_name": "Python 3",
   "language": "python",
   "name": "python3"
  },
  "language_info": {
   "codemirror_mode": {
    "name": "ipython",
    "version": 3
   },
   "file_extension": ".py",
   "mimetype": "text/x-python",
   "name": "python",
   "nbconvert_exporter": "python",
   "pygments_lexer": "ipython3",
   "version": "3.13.3"
  }
 },
 "nbformat": 4,
 "nbformat_minor": 5
}
