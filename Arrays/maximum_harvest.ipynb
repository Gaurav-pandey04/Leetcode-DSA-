{
 "cells": [
  {
   "cell_type": "markdown",
   "id": "25af9edc",
   "metadata": {},
   "source": [
    "# Maximum Fruits harvest after k steps"
   ]
  },
  {
   "cell_type": "code",
   "execution_count": 51,
   "id": "6820ad6d",
   "metadata": {},
   "outputs": [],
   "source": [
    "from bisect import bisect_left\n",
    "fruits = [[0,9],[4,1],[5,7],[6,2],[7,4],[10,9]]\n",
    "startPos = 5\n",
    "k = 4\n",
    "n = len(fruits)\n",
    "prefix_sum = [0]*(n+1)\n",
    "position = [pos for pos, amt in fruits] "
   ]
  },
  {
   "cell_type": "code",
   "execution_count": 54,
   "id": "7f8eab44",
   "metadata": {},
   "outputs": [
    {
     "name": "stdout",
     "output_type": "stream",
     "text": [
      "14\n"
     ]
    }
   ],
   "source": [
    "for i in range(n):\n",
    "    prefix_sum[i+1] = prefix_sum[i] + fruits[i][1]\n",
    "\n",
    "def get_sum(left, right):\n",
    "    l = bisect_left(position, left)\n",
    "    r = bisect_left(position, right+1)\n",
    "    return prefix_sum[r] - prefix_sum[l]\n",
    " \n",
    "max_harvest = 0\n",
    "\n",
    "for left_step in range(0, k + 1):\n",
    "    right_remain = k - 2 * left_step\n",
    "    if right_remain < 0:\n",
    "        continue\n",
    "    left = startPos - left_step\n",
    "    right = startPos + right_remain\n",
    "    max_harvest = max(max_harvest, get_sum(left, right))\n",
    "\n",
    "for right_step in range(0, k + 1):\n",
    "    left_remain = k - 2 * right_step\n",
    "    if left_remain < 0:\n",
    "        continue\n",
    "    left = startPos - left_remain\n",
    "    right = startPos + right_step\n",
    "    max_harvest = max(max_harvest, get_sum(left, right))\n",
    "\n",
    "print(max_harvest)"
   ]
  }
 ],
 "metadata": {
  "kernelspec": {
   "display_name": "Python 3",
   "language": "python",
   "name": "python3"
  },
  "language_info": {
   "codemirror_mode": {
    "name": "ipython",
    "version": 3
   },
   "file_extension": ".py",
   "mimetype": "text/x-python",
   "name": "python",
   "nbconvert_exporter": "python",
   "pygments_lexer": "ipython3",
   "version": "3.13.3"
  }
 },
 "nbformat": 4,
 "nbformat_minor": 5
}
