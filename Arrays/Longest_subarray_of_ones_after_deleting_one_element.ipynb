{
 "cells": [
  {
   "cell_type": "markdown",
   "id": "96b33e15",
   "metadata": {},
   "source": [
    "# Longest Subaaray of 1's after deleting excatly one elements\n",
    "\n",
    "Core Strategy\n",
    "\n",
    "Use a sliding window technique to find the longest subarray containing at most one 0. The length of this subarray minus 1 (the deleted element) gives us our answer.\n",
    "\n",
    "Algorithm Steps\n",
    "\n",
    "- Two pointers approach: Use left and right pointers to maintain a sliding window\n",
    "- Count zeros: Keep track of how many zeros are in the current window\n",
    "- Expand window: Move right pointer and include elements\n",
    "- Contract window: When we have more than one zero, move left pointer until we have at most one zero\n",
    "- Track maximum: Keep track of the maximum window size seen"
   ]
  },
  {
   "cell_type": "code",
   "execution_count": 4,
   "id": "ec1e6e82",
   "metadata": {},
   "outputs": [
    {
     "name": "stdout",
     "output_type": "stream",
     "text": [
      "5\n"
     ]
    }
   ],
   "source": [
    "nums = [0,1,1,1,0,1,1,0,1]\n",
    "\n",
    "left = 0\n",
    "zeros = 0\n",
    "maxLength = 0\n",
    "\n",
    "for right in range(len(nums)):\n",
    "    # Expand window\n",
    "    if nums[right] == 0:\n",
    "        zeros += 1\n",
    "    \n",
    "    # Contrast window for too many zeros\n",
    "    while zeros > 1:\n",
    "        if nums[left] == 0:\n",
    "            zeros -= 1\n",
    "        left += 1\n",
    "\n",
    "    maxLength = max(maxLength, right - left)\n",
    "\n",
    "print(maxLength)"
   ]
  }
 ],
 "metadata": {
  "kernelspec": {
   "display_name": "Python 3",
   "language": "python",
   "name": "python3"
  },
  "language_info": {
   "codemirror_mode": {
    "name": "ipython",
    "version": 3
   },
   "file_extension": ".py",
   "mimetype": "text/x-python",
   "name": "python",
   "nbconvert_exporter": "python",
   "pygments_lexer": "ipython3",
   "version": "3.13.3"
  }
 },
 "nbformat": 4,
 "nbformat_minor": 5
}
