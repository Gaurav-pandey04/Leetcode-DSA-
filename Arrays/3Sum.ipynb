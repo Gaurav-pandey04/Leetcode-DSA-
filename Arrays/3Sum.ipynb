{
 "cells": [
  {
   "cell_type": "markdown",
   "id": "5681272a",
   "metadata": {},
   "source": [
    "# 3 Sum"
   ]
  },
  {
   "cell_type": "code",
   "execution_count": 12,
   "id": "c893aeaa",
   "metadata": {},
   "outputs": [],
   "source": [
    "nums = [-1,0,1,2,-1,-4]\n",
    "nums.sort()\n",
    "result = []"
   ]
  },
  {
   "cell_type": "code",
   "execution_count": 13,
   "id": "be7a4c46",
   "metadata": {},
   "outputs": [
    {
     "name": "stdout",
     "output_type": "stream",
     "text": [
      "[[-1, -1, 2], [-1, 0, 1]]\n"
     ]
    }
   ],
   "source": [
    "for i in range(len(nums)):\n",
    "    if i>0 and nums[i] == nums[i-1]:\n",
    "        continue\n",
    "\n",
    "    left, right = i + 1, len(nums) - 1\n",
    "\n",
    "    while left < right:\n",
    "\n",
    "        sum = nums[i] + nums[left] + nums[right]\n",
    "        \n",
    "        if sum == 0:\n",
    "            result.append([nums[i], nums[left], nums[right]])\n",
    "            while left < right and nums[left] == nums[left+1]:\n",
    "                left += 1\n",
    "            while left < right and nums[right] == nums[right-1]:\n",
    "                right -= 1\n",
    "            left += 1\n",
    "            right -= 1\n",
    "        elif sum < 0:\n",
    "            left += 1\n",
    "        else:\n",
    "            right -= 1\n",
    "\n",
    "print(result)"
   ]
  }
 ],
 "metadata": {
  "kernelspec": {
   "display_name": "Python 3",
   "language": "python",
   "name": "python3"
  },
  "language_info": {
   "codemirror_mode": {
    "name": "ipython",
    "version": 3
   },
   "file_extension": ".py",
   "mimetype": "text/x-python",
   "name": "python",
   "nbconvert_exporter": "python",
   "pygments_lexer": "ipython3",
   "version": "3.13.3"
  }
 },
 "nbformat": 4,
 "nbformat_minor": 5
}
