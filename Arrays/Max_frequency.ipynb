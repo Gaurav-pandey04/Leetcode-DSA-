{
 "cells": [
  {
   "cell_type": "markdown",
   "id": "854bbc7c",
   "metadata": {},
   "source": [
    "# Count Elements with maximum frequency"
   ]
  },
  {
   "cell_type": "code",
   "execution_count": 12,
   "id": "e1fdf398",
   "metadata": {},
   "outputs": [
    {
     "data": {
      "text/plain": [
       "4"
      ]
     },
     "execution_count": 12,
     "metadata": {},
     "output_type": "execute_result"
    }
   ],
   "source": [
    "from collections import Counter\n",
    "nums = [1,2,2,3,1,4]\n",
    "\n",
    "max_freq = 0\n",
    "total_max_freq = 0\n",
    "nums_count = Counter(nums)\n",
    "for num in nums_count:\n",
    "    max_freq = max(max_freq, nums_count[num])\n",
    "\n",
    "for num in nums_count:\n",
    "    if nums_count[num] == max_freq:\n",
    "        total_max_freq += nums_count[num]\n",
    "\n",
    "total_max_freq"
   ]
  }
 ],
 "metadata": {
  "kernelspec": {
   "display_name": "Python 3",
   "language": "python",
   "name": "python3"
  },
  "language_info": {
   "codemirror_mode": {
    "name": "ipython",
    "version": 3
   },
   "file_extension": ".py",
   "mimetype": "text/x-python",
   "name": "python",
   "nbconvert_exporter": "python",
   "pygments_lexer": "ipython3",
   "version": "3.13.3"
  }
 },
 "nbformat": 4,
 "nbformat_minor": 5
}
