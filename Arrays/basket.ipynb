{
 "cells": [
  {
   "cell_type": "markdown",
   "id": "959fae83",
   "metadata": {},
   "source": [
    "# Rearranging fruits"
   ]
  },
  {
   "cell_type": "markdown",
   "id": "a69c0977",
   "metadata": {},
   "source": [
    "### import"
   ]
  },
  {
   "cell_type": "code",
   "execution_count": 28,
   "id": "2dde432f",
   "metadata": {},
   "outputs": [],
   "source": [
    "from collections import Counter"
   ]
  },
  {
   "cell_type": "markdown",
   "id": "3fb1796b",
   "metadata": {},
   "source": [
    "### Variable Decalration"
   ]
  },
  {
   "cell_type": "code",
   "execution_count": 29,
   "id": "030ba464",
   "metadata": {},
   "outputs": [
    {
     "name": "stdout",
     "output_type": "stream",
     "text": [
      "Counter({2: 3, 4: 1}) Counter({1: 2, 4: 1, 2: 1}) Counter({2: 4, 4: 2, 1: 2})\n",
      "dict_items([(4, 2), (2, 4), (1, 2)])\n"
     ]
    }
   ],
   "source": [
    "basket1 = [4,2,2,2]\n",
    "basket2 = [1,4,1,2]\n",
    "\n",
    "count1 = Counter(basket1)\n",
    "count2 = Counter(basket2)\n",
    "total_count = count1 + count2\n",
    "print(count1, count2, total_count)\n",
    "print(total_count.items())"
   ]
  },
  {
   "cell_type": "markdown",
   "id": "769c2b30",
   "metadata": {},
   "source": [
    "### Checking of possible or not to make the both basket identitical"
   ]
  },
  {
   "cell_type": "code",
   "execution_count": 30,
   "id": "f1903a0a",
   "metadata": {},
   "outputs": [],
   "source": [
    "for fruits, total in total_count.items():\n",
    "    if total % 2 !=0:\n",
    "        print(-1)"
   ]
  },
  {
   "cell_type": "markdown",
   "id": "dfb55d41",
   "metadata": {},
   "source": [
    "### Logic"
   ]
  },
  {
   "cell_type": "code",
   "execution_count": 31,
   "id": "56a6382d",
   "metadata": {},
   "outputs": [
    {
     "name": "stdout",
     "output_type": "stream",
     "text": [
      "1\n"
     ]
    }
   ],
   "source": [
    "diff1 = []\n",
    "diff2 = []\n",
    "\n",
    "for fruit in total_count:\n",
    "    target = total_count[fruit]//2\n",
    "    if count1[fruit] > target:\n",
    "        diff1.extend([fruit] * (count1[fruit] - target))\n",
    "    elif count2[fruit] > target:\n",
    "        diff2.extend([fruit] * (count2[fruit] - target))\n",
    "\n",
    "if len(diff1) != len(diff2):\n",
    "    print(-1)\n",
    "\n",
    "diff1.sort()\n",
    "diff2.sort(reverse=True)\n",
    "\n",
    "min_fruit = min(total_count)\n",
    "\n",
    "cost = 0\n",
    "for a, b in zip(diff1, diff2):\n",
    "    cost += min(min(a, b), 2 * min_fruit)\n",
    "\n",
    "print(cost)\n"
   ]
  },
  {
   "cell_type": "markdown",
   "id": "4939b2cb",
   "metadata": {},
   "source": [
    "## Explanation"
   ]
  },
  {
   "cell_type": "markdown",
   "id": "3862bd76",
   "metadata": {},
   "source": [
    "1. Count fruit differences:Use a dictionary-like `Counter` to track how many more fruits of each type `basket1` has compared to `basket2`.\n",
    "    - For each pair of fruits at the same index, add 1 for `basket1`’s fruit and subtract 1 for `basket2`’s fruit.\n",
    "2.\tCheck feasibility:If any fruit has an odd difference count, return `-1` because you can’t make baskets equal with swaps.\n",
    "3.\tCollect surplus fruits:Separate fruits that are extra in `basket1` into one list (`diff1`), and those extra in `basket2` into another list (`diff2`).Each fruit appears in these lists as many times as it’s surplus.\n",
    "4.\tSort lists for pairing:Sort `diff1` in ascending order and `diff2` in descending order.This helps to pair the cheapest surplus fruit from one basket with the most expensive surplus from the other to minimize cost.\n",
    "5.\tFind the cheapest fruit overall:Find the minimum fruit cost from all fruit types to consider indirect swapping with it.\n",
    "6.\tCalculate total cost:For each pair `(a, b)` from `diff1` and `diff2`:\n",
    "    - Calculate the cost of swapping directly (`min(a, b)`), or\n",
    "    - The cost of swapping indirectly via the cheapest fruit twice (`2 * min_fruit`).Add the smaller of these to the total cost.\n",
    "7.\tReturn the total minimal cost"
   ]
  }
 ],
 "metadata": {
  "kernelspec": {
   "display_name": "Python 3",
   "language": "python",
   "name": "python3"
  },
  "language_info": {
   "codemirror_mode": {
    "name": "ipython",
    "version": 3
   },
   "file_extension": ".py",
   "mimetype": "text/x-python",
   "name": "python",
   "nbconvert_exporter": "python",
   "pygments_lexer": "ipython3",
   "version": "3.13.3"
  }
 },
 "nbformat": 4,
 "nbformat_minor": 5
}
