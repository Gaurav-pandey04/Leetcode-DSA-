{
 "cells": [
  {
   "cell_type": "markdown",
   "id": "e78585ec",
   "metadata": {},
   "source": [
    "# Sort matrix by diagonal"
   ]
  },
  {
   "cell_type": "code",
   "execution_count": 12,
   "id": "81aac26f",
   "metadata": {},
   "outputs": [],
   "source": [
    "from collections import defaultdict\n",
    "\n",
    "grid = [[1,7,3],[9,8,2],[4,5,6]]\n",
    "\n",
    "n = len(grid)\n",
    "diagonals = defaultdict(list)"
   ]
  },
  {
   "cell_type": "code",
   "execution_count": 13,
   "id": "98da3a63",
   "metadata": {},
   "outputs": [
    {
     "name": "stdout",
     "output_type": "stream",
     "text": [
      "defaultdict(<class 'list'>, {0: [1, 8, 6], -1: [7, 2], -2: [3], 1: [9, 5], 2: [4]})\n"
     ]
    }
   ],
   "source": [
    "#Step 1: Collecting the diagonals\n",
    "for i in range(n):\n",
    "    for j in range(n):\n",
    "        diagonals[i-j].append(grid[i][j])\n",
    "\n",
    "print(diagonals)"
   ]
  },
  {
   "cell_type": "code",
   "execution_count": 14,
   "id": "d6ef687f",
   "metadata": {},
   "outputs": [
    {
     "name": "stdout",
     "output_type": "stream",
     "text": [
      "defaultdict(<class 'list'>, {0: [8, 6, 1], -1: [2, 7], -2: [3], 1: [9, 5], 2: [4]})\n"
     ]
    }
   ],
   "source": [
    "#Step 2: Sort the diagnoals\n",
    "for key in diagonals:\n",
    "    if key >=0:                                         # Bottom - left triangle\n",
    "        diagonals[key].sort(reverse=True)               # Non - increasing order\n",
    "    else:                                               # Top - right triangle\n",
    "        diagonals[key].sort()                           # Non - decreasing order\n",
    "\n",
    "print(diagonals)"
   ]
  },
  {
   "cell_type": "code",
   "execution_count": 15,
   "id": "ca11a32c",
   "metadata": {},
   "outputs": [
    {
     "name": "stdout",
     "output_type": "stream",
     "text": [
      "[[8, 2, 3], [9, 6, 7], [4, 5, 1]]\n"
     ]
    }
   ],
   "source": [
    "#Step 3: Put them Back\n",
    "for i in range(n):\n",
    "    for j in range(n):\n",
    "        grid[i][j] = diagonals[i-j].pop(0)\n",
    "\n",
    "print(grid)"
   ]
  }
 ],
 "metadata": {
  "kernelspec": {
   "display_name": "Python 3",
   "language": "python",
   "name": "python3"
  },
  "language_info": {
   "codemirror_mode": {
    "name": "ipython",
    "version": 3
   },
   "file_extension": ".py",
   "mimetype": "text/x-python",
   "name": "python",
   "nbconvert_exporter": "python",
   "pygments_lexer": "ipython3",
   "version": "3.13.3"
  }
 },
 "nbformat": 4,
 "nbformat_minor": 5
}
