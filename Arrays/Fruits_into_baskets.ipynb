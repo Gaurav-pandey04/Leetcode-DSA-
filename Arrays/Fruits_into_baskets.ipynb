{
 "cells": [
  {
   "cell_type": "markdown",
   "id": "e3e16e1d",
   "metadata": {},
   "source": [
    "# Fruits into Baskets (Sliding window)"
   ]
  },
  {
   "cell_type": "markdown",
   "id": "85570b5b",
   "metadata": {},
   "source": [
    "### Imports"
   ]
  },
  {
   "cell_type": "code",
   "execution_count": null,
   "id": "8edf1b86",
   "metadata": {},
   "outputs": [],
   "source": [
    "from collections import defaultdict\n",
    "fruits = [3,3,3,1,2,1,1,2,3,3,4]"
   ]
  },
  {
   "cell_type": "markdown",
   "id": "95c70c7b",
   "metadata": {},
   "source": [
    "### Variable Declaration"
   ]
  },
  {
   "cell_type": "code",
   "execution_count": null,
   "id": "faf7f552",
   "metadata": {},
   "outputs": [],
   "source": [
    "count = defaultdict(int)\n",
    "left = 0\n",
    "max_fruits = 0"
   ]
  },
  {
   "cell_type": "markdown",
   "id": "64bd7432",
   "metadata": {},
   "source": [
    "### Logic"
   ]
  },
  {
   "cell_type": "code",
   "execution_count": null,
   "id": "08cecb27",
   "metadata": {},
   "outputs": [],
   "source": [
    "for right in range(len(fruits)):\n",
    "    count[fruits[right]] += 1\n",
    "    # Shrink the window if we have more than 2 types\n",
    "    while len(count) > 2:\n",
    "        count[fruits[left]] -= 1\n",
    "        if count[fruits[left]] == 0:\n",
    "            del count[fruits[left]]\n",
    "        left += 1  # Move the window forward\n",
    "    print(count)\n",
    "    max_fruits = max(max_fruits, right - left + 1)\n",
    "\n",
    "print(max_fruits)\n"
   ]
  },
  {
   "cell_type": "markdown",
   "id": "407472ed",
   "metadata": {},
   "source": [
    "### How it Works:\n",
    "- Use a sliding window (`left` and `right`) to maintain a window where there are at most 2 distinct fruits.\n",
    "- Move `right` forward each time.\n",
    "- If window has more than 2 fruit types, increment `left` to shrink the window.\n",
    "- Keep track of the maximum window size (which equals max number of fruits picked)."
   ]
  },
  {
   "cell_type": "markdown",
   "id": "464517c8",
   "metadata": {},
   "source": [
    "### Time Complexity:\n",
    "- O(n): We loop through the array once, with possible inner window shrinking.\n",
    "- O(1) space for the dictionary (only ever storing at most 2 keys)."
   ]
  }
 ],
 "metadata": {
  "kernelspec": {
   "display_name": "Python 3",
   "language": "python",
   "name": "python3"
  },
  "language_info": {
   "codemirror_mode": {
    "name": "ipython",
    "version": 3
   },
   "file_extension": ".py",
   "mimetype": "text/x-python",
   "name": "python",
   "nbconvert_exporter": "python",
   "pygments_lexer": "ipython3",
   "version": "3.13.3"
  }
 },
 "nbformat": 4,
 "nbformat_minor": 5
}
