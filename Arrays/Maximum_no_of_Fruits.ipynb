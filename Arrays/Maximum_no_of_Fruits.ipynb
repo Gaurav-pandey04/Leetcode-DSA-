{
 "cells": [
  {
   "cell_type": "markdown",
   "id": "af7301e2",
   "metadata": {},
   "source": [
    "# Maximum No. of Fruits Collected"
   ]
  },
  {
   "cell_type": "code",
   "execution_count": 6,
   "id": "8edd9a36",
   "metadata": {},
   "outputs": [],
   "source": [
    "fruits = [[1,2,3,4],[5,6,8,7],[9,10,11,12],[13,14,15,16]]"
   ]
  },
  {
   "cell_type": "code",
   "execution_count": null,
   "id": "b1e5490b",
   "metadata": {},
   "outputs": [
    {
     "name": "stdout",
     "output_type": "stream",
     "text": [
      "4\n",
      "4\n",
      "12\n",
      "13\n",
      "13\n",
      "27\n",
      "100\n"
     ]
    }
   ],
   "source": [
    "n = len(fruits)\n",
    "ans = sum(fruits[i][i] for i in range(n))\n",
    "\n",
    "def dp():\n",
    "    prev = [float(\"-inf\")] * n\n",
    "    curr = [float(\"-inf\")] * n\n",
    "    prev[n - 1] = fruits[0][n - 1]\n",
    "    for i in range(1, n - 1):\n",
    "        for j in range(max(n - 1 - i, i + 1), n):\n",
    "            best = prev[j]\n",
    "            if j - 1 >= 0:\n",
    "                best = max(best, prev[j - 1])\n",
    "            if j + 1 < n:\n",
    "                best = max(best, prev[j + 1])\n",
    "            curr[j] = best + fruits[i][j]\n",
    "        prev, curr = curr, prev\n",
    "    return prev[n - 1]\n",
    "\n",
    "ans += dp()\n",
    "        \n",
    "for i in range(n):\n",
    "    for j in range(i):\n",
    "        fruits[i][j], fruits[j][i] = fruits[j][i], fruits[i][j]\n",
    "\n",
    "ans += dp()\n",
    "print(ans)"
   ]
  },
  {
   "cell_type": "markdown",
   "id": "06d7d9bc",
   "metadata": {},
   "source": [
    "## Exaplanation\n",
    "\n",
    "Firstly, since the child starting from (0,0) can only move n−1 times, he can only walk along the main diagonal. Therefore, we only need to calculate the maximum total number of fruits collected by the remaining two children.\n",
    "\n",
    "For the child starting from the upper-right corner (0,n−1), it's easy to see that he can only move above the main diagonal and cannot cross it; otherwise, he won’t be able to reach the lower-right corner in exactly n−1 moves. The same constraint applies to the other child starting from the lower-left corner (n−1,0).\n",
    "\n",
    "Since the three children are not allowed to enter the same room, we only need to consider one of these two diagonal-symmetric cases. We can use dynamic programming to compute the maximum fruits collected along one valid path. Then, by flipping the matrix along the main diagonal, we can reuse the same logic to compute the other path. This transforms the problem into:\n",
    "\n",
    "Starting from the top-right corner (0,n−1), without passing through the main diagonal, find the maximum number of fruits that can be collected by the time the child reaches room (n−2,n−1).\n",
    "This can be solved using dynamic programming. Let dp[i][j] represent the maximum number of fruits that can be collected when reaching room (i,j). For 1≤i<n−1 and 1<j<n, we define the recurrence as\n",
    "\n",
    "dp[i][j]=max(dp[i−1][j−1], dp[i−1][j], dp[i−1][j+1])+fruits[i][j].\n",
    "\n",
    "Since the destination is (n−2,n−1), and every step moves the child downward (increasing i), the column index j is always greater than i. So we can initialize j to start from max(n−1−i, i+1) at each row."
   ]
  }
 ],
 "metadata": {
  "kernelspec": {
   "display_name": "Python 3",
   "language": "python",
   "name": "python3"
  },
  "language_info": {
   "codemirror_mode": {
    "name": "ipython",
    "version": 3
   },
   "file_extension": ".py",
   "mimetype": "text/x-python",
   "name": "python",
   "nbconvert_exporter": "python",
   "pygments_lexer": "ipython3",
   "version": "3.13.3"
  }
 },
 "nbformat": 4,
 "nbformat_minor": 5
}
