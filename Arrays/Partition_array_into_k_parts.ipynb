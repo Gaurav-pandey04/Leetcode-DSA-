{
 "cells": [
  {
   "cell_type": "markdown",
   "id": "5a2ff0b4",
   "metadata": {},
   "source": [
    "# Partition Array into K distinct parts"
   ]
  },
  {
   "cell_type": "code",
   "execution_count": 7,
   "id": "dec09bb5",
   "metadata": {},
   "outputs": [
    {
     "name": "stdout",
     "output_type": "stream",
     "text": [
      "True\n"
     ]
    }
   ],
   "source": [
    "from collections import Counter\n",
    "\n",
    "nums = [1,2,3,4]\n",
    "k = 2\n",
    "\n",
    "if len(nums)%k != 0:\n",
    "    print(False)\n",
    "\n",
    "freq = Counter(nums)\n",
    "groups = len(nums) // k\n",
    "\n",
    "for count in freq.values():\n",
    "    if count>groups:\n",
    "        print(False)\n",
    "\n",
    "print(True)"
   ]
  }
 ],
 "metadata": {
  "kernelspec": {
   "display_name": "Python 3",
   "language": "python",
   "name": "python3"
  },
  "language_info": {
   "codemirror_mode": {
    "name": "ipython",
    "version": 3
   },
   "file_extension": ".py",
   "mimetype": "text/x-python",
   "name": "python",
   "nbconvert_exporter": "python",
   "pygments_lexer": "ipython3",
   "version": "3.13.3"
  }
 },
 "nbformat": 4,
 "nbformat_minor": 5
}
