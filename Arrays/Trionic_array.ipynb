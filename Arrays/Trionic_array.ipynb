{
 "cells": [
  {
   "cell_type": "markdown",
   "id": "00faab20",
   "metadata": {},
   "source": [
    "# Trionic Array I"
   ]
  },
  {
   "cell_type": "code",
   "execution_count": 21,
   "id": "24d6a021",
   "metadata": {},
   "outputs": [],
   "source": [
    "nums = [1,3,5,4,2,6]\n",
    "n = len(nums)"
   ]
  },
  {
   "cell_type": "code",
   "execution_count": 22,
   "id": "399a4451",
   "metadata": {},
   "outputs": [
    {
     "name": "stdout",
     "output_type": "stream",
     "text": [
      "True\n"
     ]
    }
   ],
   "source": [
    "def increasing(arr):\n",
    "    return all(arr[i]<arr[i+1] for i in range(len(arr)-1))\n",
    "\n",
    "def descreasing(arr):\n",
    "    return all(arr[i]>arr[i+1] for i in range(len(arr)-1))\n",
    "\n",
    "for p in range(1, n-2):\n",
    "    for q in range(p+1, n-1):\n",
    "        if(increasing(nums[:p+1]) and descreasing(nums[p:q+1]) and increasing(nums[q:])):\n",
    "             print(True)\n",
    "\n",
    "# print(False)"
   ]
  },
  {
   "cell_type": "code",
   "execution_count": null,
   "id": "d11a5ce9",
   "metadata": {},
   "outputs": [],
   "source": []
  }
 ],
 "metadata": {
  "kernelspec": {
   "display_name": "Python 3",
   "language": "python",
   "name": "python3"
  },
  "language_info": {
   "codemirror_mode": {
    "name": "ipython",
    "version": 3
   },
   "file_extension": ".py",
   "mimetype": "text/x-python",
   "name": "python",
   "nbconvert_exporter": "python",
   "pygments_lexer": "ipython3",
   "version": "3.13.3"
  }
 },
 "nbformat": 4,
 "nbformat_minor": 5
}
