{
 "cells": [
  {
   "cell_type": "markdown",
   "id": "01891e36",
   "metadata": {},
   "source": [
    "# Maximum area of longest diagonal"
   ]
  },
  {
   "cell_type": "code",
   "execution_count": 5,
   "id": "e5510e87",
   "metadata": {},
   "outputs": [
    {
     "name": "stdout",
     "output_type": "stream",
     "text": [
      "20\n"
     ]
    }
   ],
   "source": [
    "import math\n",
    "\n",
    "dimensions = [[6,5],[8,6],[2,10],[8,1],[9,2],[3,5],[3,5]]\n",
    "\n",
    "max_diag = -1\n",
    "max_area = -1\n",
    "\n",
    "for l, w in dimensions:\n",
    "    diag = l*l+w*w\n",
    "    area = l*w\n",
    "\n",
    "    if diag > max_diag or (diag == max_diag and area > max_area):\n",
    "        max_diag = diag\n",
    "        max_area = area\n",
    "\n",
    "print(max_area)"
   ]
  }
 ],
 "metadata": {
  "kernelspec": {
   "display_name": "Python 3",
   "language": "python",
   "name": "python3"
  },
  "language_info": {
   "codemirror_mode": {
    "name": "ipython",
    "version": 3
   },
   "file_extension": ".py",
   "mimetype": "text/x-python",
   "name": "python",
   "nbconvert_exporter": "python",
   "pygments_lexer": "ipython3",
   "version": "3.13.3"
  }
 },
 "nbformat": 4,
 "nbformat_minor": 5
}
