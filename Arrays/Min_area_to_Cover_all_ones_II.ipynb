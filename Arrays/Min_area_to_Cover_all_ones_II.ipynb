{
 "cells": [
  {
   "cell_type": "markdown",
   "id": "0f7b0a27",
   "metadata": {},
   "source": [
    "# Minimum Area to cover all Ones II"
   ]
  },
  {
   "cell_type": "code",
   "execution_count": null,
   "id": "07e921a8",
   "metadata": {},
   "outputs": [
    {
     "name": "stdout",
     "output_type": "stream",
     "text": [
      "[(0, 0), (0, 2), (1, 0), (1, 1), (1, 2)]\n"
     ]
    }
   ],
   "source": [
    "grid = [[1,0,1],[1,1,1]]\n",
    "\n",
    "m, n = len(grid), len(grid[0])\n",
    "ones = [(i,j) for i in range(m) for j in range(n) if gr[i][j]==1]\n",
    "print(ones)  # finding the position of all ones"
   ]
  },
  {
   "cell_type": "code",
   "execution_count": null,
   "id": "cc6c55f9",
   "metadata": {},
   "outputs": [
    {
     "name": "stdout",
     "output_type": "stream",
     "text": [
      "5\n"
     ]
    }
   ],
   "source": [
    "if not ones:\n",
    "    print(0)\n",
    "\n",
    "def bounding_area(points):      # Func to calculate area of rectangle into bounding limits\n",
    "    if not points:\n",
    "        return float('inf')\n",
    "    min_r = min(i for i, _ in points)\n",
    "    max_r = max(i for i, _ in points)\n",
    "    min_c = min(j for _, j in points)\n",
    "    max_c = max(j for _, j in points)\n",
    "    return (max_r - min_r + 1) * (max_c - min_c + 1)\n",
    "\n",
    "ans = float('inf')\n",
    "\n",
    "for c1 in range(n):\n",
    "    for c2 in range(c1+1, n):\n",
    "        p1 = [(i, j) for i, j in ones if j <= c1]\n",
    "        p2 = [(i, j) for i, j in ones if c1 < j <= c2]\n",
    "        p3 = [(i, j) for i, j in ones if j > c2]\n",
    "        if not p1 or not p2 or not p3:\n",
    "            continue\n",
    "        ans = min(ans, bounding_area(p1)+bounding_area(p2)+bounding_area(p3))\n",
    "\n",
    "for r1 in range(m):\n",
    "    for r2 in range(r1+1, m):\n",
    "        p1 = [(i,j) for i, j in ones if i<=r1]\n",
    "        p2 = [(i,j) for i, j in ones if r1 < i <= r2]\n",
    "        p3 = [(i,j) for i, j in ones if i > r2]\n",
    "        if not p1 or not p2 or not p3:\n",
    "            continue\n",
    "        ans = min(ans, bounding_area(p1)+bounding_area(p2)+bounding_area(p3))\n",
    "        \n",
    "for r in range(m-1):\n",
    "            top = [(i,j) for i,j in ones if i <= r]\n",
    "            bottom = [(i,j) for i,j in ones if i > r]\n",
    "            if not top or not bottom: continue\n",
    "            for c in range(n-1):\n",
    "                left = [(i,j) for i,j in bottom if j <= c]\n",
    "                right = [(i,j) for i,j in bottom if j > c]\n",
    "                if left and right:\n",
    "                    ans = min(ans, bounding_area(top)+bounding_area(left)+bounding_area(right))\n",
    "        \n",
    "\n",
    "for c in range(n-1):\n",
    "    left = [(i,j) for i,j in ones if j <= c]\n",
    "    right = [(i,j) for i,j in ones if j > c]\n",
    "    if not left or not right: continue\n",
    "    for r in range(m-1):\n",
    "        up = [(i,j) for i,j in right if i <= r]\n",
    "        down = [(i,j) for i,j in right if i > r]\n",
    "        if up and down:\n",
    "            ans = min(ans, bounding_area(left)+bounding_area(up)+bounding_area(down))\n",
    "\n",
    "print(ans)"
   ]
  }
 ],
 "metadata": {
  "kernelspec": {
   "display_name": "Python 3",
   "language": "python",
   "name": "python3"
  },
  "language_info": {
   "codemirror_mode": {
    "name": "ipython",
    "version": 3
   },
   "file_extension": ".py",
   "mimetype": "text/x-python",
   "name": "python",
   "nbconvert_exporter": "python",
   "pygments_lexer": "ipython3",
   "version": "3.13.3"
  }
 },
 "nbformat": 4,
 "nbformat_minor": 5
}
