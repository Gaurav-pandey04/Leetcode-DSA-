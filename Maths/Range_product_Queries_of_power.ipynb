{
 "cells": [
  {
   "cell_type": "markdown",
   "id": "a81b94d5",
   "metadata": {},
   "source": [
    "# Range Product Quereis of Powers"
   ]
  },
  {
   "cell_type": "code",
   "execution_count": null,
   "id": "20fc48eb",
   "metadata": {},
   "outputs": [],
   "source": [
    "n = 13\n",
    "queries = [[1,2],[1,1]]"
   ]
  },
  {
   "cell_type": "code",
   "execution_count": null,
   "id": "e0d62d7d",
   "metadata": {},
   "outputs": [],
   "source": [
    "mod = 10**9 + 7\n",
    "\n",
    "bins, rep = [], 1\n",
    "while n > 0:\n",
    "    if n % 2 == 1:\n",
    "        bins.append(rep)\n",
    "    n //= 2\n",
    "    rep *= 2\n",
    "\n",
    "ans = []\n",
    "for left, right in queries:\n",
    "    cur = 1\n",
    "    for i in range(left, right + 1):\n",
    "        cur = cur * bins[i] % mod\n",
    "    ans.append(cur)\n",
    "print(ans)"
   ]
  }
 ],
 "metadata": {
  "kernelspec": {
   "display_name": "Python 3",
   "language": "python",
   "name": "python3"
  },
  "language_info": {
   "codemirror_mode": {
    "name": "ipython",
    "version": 3
   },
   "file_extension": ".py",
   "mimetype": "text/x-python",
   "name": "python",
   "nbconvert_exporter": "python",
   "pygments_lexer": "ipython3",
   "version": "3.13.3"
  }
 },
 "nbformat": 4,
 "nbformat_minor": 5
}
