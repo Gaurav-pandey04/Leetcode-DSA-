{
 "cells": [
  {
   "cell_type": "markdown",
   "id": "07b06b35",
   "metadata": {},
   "source": [
    "# Soup Serving"
   ]
  },
  {
   "cell_type": "code",
   "execution_count": 14,
   "id": "22287a9d",
   "metadata": {},
   "outputs": [],
   "source": [
    "import math\n",
    "from functools import lru_cache\n",
    "n = 1"
   ]
  },
  {
   "cell_type": "code",
   "execution_count": 15,
   "id": "16d69b6b",
   "metadata": {},
   "outputs": [
    {
     "name": "stdout",
     "output_type": "stream",
     "text": [
      "0.625\n"
     ]
    }
   ],
   "source": [
    "if n>=4800:\n",
    "    print(1)\n",
    "\n",
    "N = math.ceil(n/25)\n",
    "\n",
    "@lru_cache(None)\n",
    "def dp(a,b):\n",
    "    if a<=0 and b<=0:\n",
    "        return 0.5\n",
    "    if a<=0:\n",
    "        return 1\n",
    "    if b<=0:\n",
    "        return 0\n",
    "    \n",
    "    return 0.25 * (\n",
    "        dp(a-4, b) +\n",
    "        dp(a-3, b-1) +\n",
    "        dp(a-2, b-2) +\n",
    "        dp(a-1, b-3)\n",
    "    )\n",
    "\n",
    "val = dp(N, N)\n",
    "print(val)"
   ]
  }
 ],
 "metadata": {
  "kernelspec": {
   "display_name": "Python 3",
   "language": "python",
   "name": "python3"
  },
  "language_info": {
   "codemirror_mode": {
    "name": "ipython",
    "version": 3
   },
   "file_extension": ".py",
   "mimetype": "text/x-python",
   "name": "python",
   "nbconvert_exporter": "python",
   "pygments_lexer": "ipython3",
   "version": "3.13.3"
  }
 },
 "nbformat": 4,
 "nbformat_minor": 5
}
