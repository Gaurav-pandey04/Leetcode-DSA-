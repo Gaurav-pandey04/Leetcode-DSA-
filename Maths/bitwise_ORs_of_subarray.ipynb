{
 "cells": [
  {
   "cell_type": "markdown",
   "id": "caa6d56d",
   "metadata": {},
   "source": [
    "# Bitwise OR's of Subarray"
   ]
  },
  {
   "cell_type": "markdown",
   "id": "36bf5b59",
   "metadata": {},
   "source": [
    "### Brute Force Method"
   ]
  },
  {
   "cell_type": "code",
   "execution_count": 37,
   "id": "782b05b3",
   "metadata": {},
   "outputs": [
    {
     "name": "stdout",
     "output_type": "stream",
     "text": [
      "[[1], [1, 2], [1, 2, 4], [2], [2, 4], [4]]\n"
     ]
    }
   ],
   "source": [
    "arr = [1,2,4]\n",
    "result = set()\n",
    "subarray = [arr[i:j+1] for i in range(len(arr)) for j in range(i, len(arr))]\n",
    "print(subarray)"
   ]
  },
  {
   "cell_type": "code",
   "execution_count": 38,
   "id": "a4c345d9",
   "metadata": {},
   "outputs": [
    {
     "name": "stdout",
     "output_type": "stream",
     "text": [
      "6\n"
     ]
    }
   ],
   "source": [
    "for num in subarray:\n",
    "    value = 0\n",
    "    for ele in num:\n",
    "        value |= ele\n",
    "    \n",
    "    result.add(value)\n",
    "\n",
    "print(len(result))"
   ]
  },
  {
   "cell_type": "markdown",
   "id": "966c9548",
   "metadata": {},
   "source": [
    "### Optimal Soultion"
   ]
  },
  {
   "cell_type": "code",
   "execution_count": 39,
   "id": "cbb52a19",
   "metadata": {},
   "outputs": [],
   "source": [
    "arr = [1,2,4]\n",
    "result = set()\n",
    "prev = set()"
   ]
  },
  {
   "cell_type": "code",
   "execution_count": 40,
   "id": "51042d4c",
   "metadata": {},
   "outputs": [
    {
     "name": "stdout",
     "output_type": "stream",
     "text": [
      "6\n"
     ]
    }
   ],
   "source": [
    "for num in arr:\n",
    "    curr = {num}\n",
    "    for val in prev:\n",
    "        curr.add(num|val)\n",
    "    prev = curr\n",
    "    result.update(curr)\n",
    "\n",
    "print(len(result))"
   ]
  }
 ],
 "metadata": {
  "kernelspec": {
   "display_name": "Python 3",
   "language": "python",
   "name": "python3"
  },
  "language_info": {
   "codemirror_mode": {
    "name": "ipython",
    "version": 3
   },
   "file_extension": ".py",
   "mimetype": "text/x-python",
   "name": "python",
   "nbconvert_exporter": "python",
   "pygments_lexer": "ipython3",
   "version": "3.13.3"
  }
 },
 "nbformat": 4,
 "nbformat_minor": 5
}
