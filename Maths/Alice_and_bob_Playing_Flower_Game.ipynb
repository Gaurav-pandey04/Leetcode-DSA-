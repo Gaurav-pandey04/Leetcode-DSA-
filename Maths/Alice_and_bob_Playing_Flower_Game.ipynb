{
 "cells": [
  {
   "cell_type": "markdown",
   "id": "3faaf08b",
   "metadata": {},
   "source": [
    "# Alice and Bob Playing Flower Game"
   ]
  },
  {
   "cell_type": "markdown",
   "id": "c273d398",
   "metadata": {},
   "source": [
    "Alice and Bob are playing a turn-based game on a field, with two lanes of flowers between them. There are x flowers in the first lane between Alice and Bob, and y flowers in the second lane between them.\n",
    "\n",
    "The game proceeds as follows:\n",
    "\n",
    "- Alice takes the first turn.\n",
    "- In each turn, a player must choose either one of the lane and pick one flower from that side.\n",
    "- At the end of the turn, if there are no flowers left at all, the current player captures their opponent and wins the game.\n",
    "- Given two integers, n and m, the task is to compute the number of possible pairs (x, y) that satisfy the conditions:\n",
    "- Alice must win the game according to the described rules.\n",
    "- The number of flowers x in the first lane must be in the range [1,n].\n",
    "- The number of flowers y in the second lane must be in the range [1,m].\n",
    "- Return the number of possible pairs (x, y) that satisfy the conditions mentioned in the statement.\n",
    "\n",
    "Example 1:\n",
    "\n",
    "Input: n = 3, m = 2\n",
    "Output: 3\n",
    "Explanation: The following pairs satisfy conditions described in the statement: (1,2), (3,2), (2,1).\n",
    "Example 2:\n",
    "\n",
    "Input: n = 1, m = 1\n",
    "Output: 0\n",
    "Explanation: No pairs satisfy the conditions described in the statement.\n",
    "\n",
    "Constraints:\n",
    "\n",
    "1 <= n, m <= 105"
   ]
  },
  {
   "cell_type": "code",
   "execution_count": 3,
   "id": "e80420dd",
   "metadata": {},
   "outputs": [
    {
     "name": "stdout",
     "output_type": "stream",
     "text": [
      "3\n"
     ]
    }
   ],
   "source": [
    "n = 3\n",
    "m = 2\n",
    "odds_x, even_x = (n+1)//2, n//2\n",
    "odds_y, even_y = (m+1)//2, m//2\n",
    "\n",
    "Alice_win = odds_x*even_y + even_x*odds_y\n",
    "\n",
    "print(Alice_win)"
   ]
  }
 ],
 "metadata": {
  "kernelspec": {
   "display_name": "Python 3",
   "language": "python",
   "name": "python3"
  },
  "language_info": {
   "codemirror_mode": {
    "name": "ipython",
    "version": 3
   },
   "file_extension": ".py",
   "mimetype": "text/x-python",
   "name": "python",
   "nbconvert_exporter": "python",
   "pygments_lexer": "ipython3",
   "version": "3.13.3"
  }
 },
 "nbformat": 4,
 "nbformat_minor": 5
}
