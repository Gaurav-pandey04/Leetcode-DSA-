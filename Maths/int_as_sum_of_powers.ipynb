{
 "cells": [
  {
   "cell_type": "markdown",
   "id": "feaca8c4",
   "metadata": {},
   "source": [
    "# Ways to express integers as sum of powers"
   ]
  },
  {
   "cell_type": "code",
   "execution_count": null,
   "id": "f509128b",
   "metadata": {},
   "outputs": [],
   "source": [
    "n = 4\n",
    "x = 1\n",
    "MOD = 10**9 + 7"
   ]
  },
  {
   "cell_type": "code",
   "execution_count": null,
   "id": "430dc6b6",
   "metadata": {},
   "outputs": [],
   "source": [
    "powers = []\n",
    "base = 1\n",
    "while True:\n",
    "    p = base ** x\n",
    "    if p > n:\n",
    "        break\n",
    "    powers.append(p)\n",
    "    base += 1"
   ]
  },
  {
   "cell_type": "code",
   "execution_count": null,
   "id": "9c2613c4",
   "metadata": {},
   "outputs": [],
   "source": [
    "dp = [0] * (n+1)\n",
    "dp[0] = 1\n",
    "\n",
    "for p in powers:\n",
    "    for s in range(n , p-1, -1):\n",
    "        dp[s] = (dp[s] + dp[s-p]) % MOD\n",
    "\n",
    "print(dp[n])"
   ]
  },
  {
   "cell_type": "markdown",
   "id": "a2386e43",
   "metadata": {},
   "source": [
    "## Explanation"
   ]
  },
  {
   "cell_type": "markdown",
   "id": "1dff80c9",
   "metadata": {},
   "source": [
    "-> dp[s] = number of ways to form sum s using some of the considered powers.\n",
    "\n",
    "-> Initialize dp[0] = 1 (one way to form sum 0: pick nothing).\n",
    "\n",
    "-> For each power p in powers, update dp backwards:\n",
    "\n",
    "- for s from n down to p: dp[s] += dp[s - p].\n",
    "\n",
    "- Backwards update ensures each power is used at most once.\n",
    "\n",
    "-> Answer is dp[n] (modulo 10^9 + 7)"
   ]
  },
  {
   "cell_type": "markdown",
   "id": "a6074c8a",
   "metadata": {},
   "source": [
    "## Complexity\n",
    "\n",
    "Let m be number of powers ≤ n (roughly floor(n^(1/x))).\n",
    "\n",
    "- Time: O(n * m) — with given constraints (n ≤ 300, x ≤ 5) this is tiny.\n",
    "\n",
    "- Space: O(n)"
   ]
  }
 ],
 "metadata": {
  "kernelspec": {
   "display_name": "Python 3",
   "language": "python",
   "name": "python3"
  },
  "language_info": {
   "codemirror_mode": {
    "name": "ipython",
    "version": 3
   },
   "file_extension": ".py",
   "mimetype": "text/x-python",
   "name": "python",
   "nbconvert_exporter": "python",
   "pygments_lexer": "ipython3",
   "version": "3.13.3"
  }
 },
 "nbformat": 4,
 "nbformat_minor": 5
}
