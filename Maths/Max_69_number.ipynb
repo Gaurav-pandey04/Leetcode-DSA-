{
 "cells": [
  {
   "cell_type": "markdown",
   "id": "7ee2150e",
   "metadata": {},
   "source": [
    "# Maximum 69 Number"
   ]
  },
  {
   "cell_type": "code",
   "execution_count": null,
   "id": "5736316e",
   "metadata": {},
   "outputs": [],
   "source": [
    "num = 9669\n",
    "tens=  (1000, 100, 10, 1)\n",
    "for t in tens:\n",
    "    r=num//t%10\n",
    "    if r==6:\n",
    "        print(num+3*t)\n",
    "print(num)"
   ]
  },
  {
   "cell_type": "code",
   "execution_count": null,
   "id": "39611bed",
   "metadata": {},
   "outputs": [],
   "source": [
    "num = 9669\n",
    "num_list = list(str(num))\n",
    "\n",
    "for i in range(len(num_list)):\n",
    "    if num_list[i] == '6':\n",
    "        num_list[i] = '9'\n",
    "        break\n",
    "\n",
    "print(int(''.join(num_list)))"
   ]
  }
 ],
 "metadata": {
  "kernelspec": {
   "display_name": "Python 3",
   "language": "python",
   "name": "python3"
  },
  "language_info": {
   "codemirror_mode": {
    "name": "ipython",
    "version": 3
   },
   "file_extension": ".py",
   "mimetype": "text/x-python",
   "name": "python",
   "nbconvert_exporter": "python",
   "pygments_lexer": "ipython3",
   "version": "3.13.3"
  }
 },
 "nbformat": 4,
 "nbformat_minor": 5
}
