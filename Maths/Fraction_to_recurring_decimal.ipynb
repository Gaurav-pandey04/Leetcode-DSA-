{
 "cells": [
  {
   "cell_type": "markdown",
   "id": "d8645c62",
   "metadata": {},
   "source": [
    "# Fraction to recurring decimal"
   ]
  },
  {
   "cell_type": "code",
   "execution_count": 7,
   "id": "08fc6fe9",
   "metadata": {},
   "outputs": [],
   "source": [
    "# Input \n",
    "numerator = 1\n",
    "denominator = 2"
   ]
  },
  {
   "cell_type": "code",
   "execution_count": 8,
   "id": "2cfc96de",
   "metadata": {},
   "outputs": [],
   "source": [
    "def fractionToDecimal(numerator: int, denominator: int) -> str:\n",
    "    if numerator == 0:\n",
    "        return \"0\"\n",
    "    \n",
    "    res = []\n",
    "    \n",
    "    # Handle sign\n",
    "    if (numerator < 0) ^ (denominator < 0):\n",
    "        res.append(\"-\")\n",
    "    \n",
    "    numerator, denominator = abs(numerator), abs(denominator)\n",
    "    \n",
    "    # Integer part\n",
    "    res.append(str(numerator // denominator))\n",
    "    remainder = numerator % denominator\n",
    "    \n",
    "    if remainder == 0:\n",
    "        return \"\".join(res)\n",
    "    \n",
    "    res.append(\".\")\n",
    "    \n",
    "    # Map remainder -> position in result\n",
    "    seen = {}\n",
    "    while remainder != 0:\n",
    "        if remainder in seen:\n",
    "            # Insert \"(\" at the position of first occurrence\n",
    "            res.insert(seen[remainder], \"(\")\n",
    "            res.append(\")\")\n",
    "            break\n",
    "        \n",
    "        seen[remainder] = len(res)\n",
    "        remainder *= 10\n",
    "        res.append(str(remainder // denominator))\n",
    "        remainder %= denominator\n",
    "    \n",
    "    return \"\".join(res)"
   ]
  },
  {
   "cell_type": "code",
   "execution_count": 9,
   "id": "b268c8b6",
   "metadata": {},
   "outputs": [
    {
     "data": {
      "text/plain": [
       "'0.5'"
      ]
     },
     "execution_count": 9,
     "metadata": {},
     "output_type": "execute_result"
    }
   ],
   "source": [
    "fractionToDecimal(numerator, denominator)"
   ]
  }
 ],
 "metadata": {
  "kernelspec": {
   "display_name": "Python 3",
   "language": "python",
   "name": "python3"
  },
  "language_info": {
   "codemirror_mode": {
    "name": "ipython",
    "version": 3
   },
   "file_extension": ".py",
   "mimetype": "text/x-python",
   "name": "python",
   "nbconvert_exporter": "python",
   "pygments_lexer": "ipython3",
   "version": "3.13.3"
  }
 },
 "nbformat": 4,
 "nbformat_minor": 5
}
