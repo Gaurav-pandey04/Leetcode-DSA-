{
 "cells": [
  {
   "cell_type": "markdown",
   "id": "ba4e0f58",
   "metadata": {},
   "source": [
    "# Least Frequent Digit"
   ]
  },
  {
   "cell_type": "code",
   "execution_count": 22,
   "id": "f8e540b8",
   "metadata": {},
   "outputs": [
    {
     "data": {
      "text/plain": [
       "1"
      ]
     },
     "execution_count": 22,
     "metadata": {},
     "output_type": "execute_result"
    }
   ],
   "source": [
    "n = 1553322\n",
    "# Step 1: Convert number to string and count frequencies\n",
    "freq = [0] * 10\n",
    "for d in str(n):\n",
    "    freq[int(d)] += 1\n",
    "\n",
    "# Step 2: Find minimum frequency among digits that actually appear\n",
    "min_freq = float('inf')\n",
    "result = -1\n",
    "for digit in range(10):\n",
    "    if freq[digit] > 0:  # consider only digits that appear\n",
    "        if freq[digit] < min_freq:\n",
    "            min_freq = freq[digit]\n",
    "            result = digit\n",
    "\n",
    "result"
   ]
  }
 ],
 "metadata": {
  "kernelspec": {
   "display_name": "Python 3",
   "language": "python",
   "name": "python3"
  },
  "language_info": {
   "codemirror_mode": {
    "name": "ipython",
    "version": 3
   },
   "file_extension": ".py",
   "mimetype": "text/x-python",
   "name": "python",
   "nbconvert_exporter": "python",
   "pygments_lexer": "ipython3",
   "version": "3.13.3"
  }
 },
 "nbformat": 4,
 "nbformat_minor": 5
}
