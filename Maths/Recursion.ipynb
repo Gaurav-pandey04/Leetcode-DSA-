{
 "cells": [
  {
   "cell_type": "markdown",
   "id": "985d5428",
   "metadata": {},
   "source": [
    "#  Recursion"
   ]
  },
  {
   "cell_type": "markdown",
   "id": "830a8bf5",
   "metadata": {},
   "source": [
    "## Sum of n Natural Number"
   ]
  },
  {
   "cell_type": "code",
   "execution_count": null,
   "id": "0f245ad9",
   "metadata": {},
   "outputs": [
    {
     "data": {
      "text/plain": [
       "55"
      ]
     },
     "execution_count": 5,
     "metadata": {},
     "output_type": "execute_result"
    }
   ],
   "source": [
    "def sum(n):\n",
    "    # Base Case\n",
    "    if n==1: return 1 \n",
    "    # Recursive Case\n",
    "    return n+sum(n-1)\n",
    "\n",
    "sum(10)"
   ]
  },
  {
   "cell_type": "markdown",
   "id": "443a5292",
   "metadata": {},
   "source": [
    "## Fibanoaci Series"
   ]
  },
  {
   "cell_type": "code",
   "execution_count": 12,
   "id": "29f78db5",
   "metadata": {},
   "outputs": [
    {
     "name": "stdout",
     "output_type": "stream",
     "text": [
      "Fibonaci: 0 1 1 2 3 5 8 13 21 34 "
     ]
    }
   ],
   "source": [
    "def fibo(n):\n",
    "    # Base Case\n",
    "    if n==0:\n",
    "        return 0\n",
    "    elif n==1:\n",
    "        return 1\n",
    "    return fibo(n-1) + fibo(n-2)\n",
    "\n",
    "# Print all fibonaci number \n",
    "print(\"Fibonaci:\",end=\" \")\n",
    "for i in range(10):\n",
    "    print(fibo(i), end=\" \")"
   ]
  },
  {
   "cell_type": "markdown",
   "id": "c87a99f7",
   "metadata": {},
   "source": [
    "## Factorial "
   ]
  },
  {
   "cell_type": "code",
   "execution_count": 16,
   "id": "3af661d5",
   "metadata": {},
   "outputs": [
    {
     "name": "stdout",
     "output_type": "stream",
     "text": [
      "Factorial: 120\n"
     ]
    }
   ],
   "source": [
    "def fact(n):\n",
    "    if n==0: return 1\n",
    "    return n*fact(n-1)\n",
    "\n",
    "print(\"Factorial:\", fact(5))"
   ]
  }
 ],
 "metadata": {
  "kernelspec": {
   "display_name": "Python 3",
   "language": "python",
   "name": "python3"
  },
  "language_info": {
   "codemirror_mode": {
    "name": "ipython",
    "version": 3
   },
   "file_extension": ".py",
   "mimetype": "text/x-python",
   "name": "python",
   "nbconvert_exporter": "python",
   "pygments_lexer": "ipython3",
   "version": "3.13.3"
  }
 },
 "nbformat": 4,
 "nbformat_minor": 5
}
