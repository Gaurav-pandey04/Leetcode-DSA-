{
 "cells": [
  {
   "cell_type": "markdown",
   "id": "4d51b7ea",
   "metadata": {},
   "source": [
    "# Minimum cuts to Divide a Circle"
   ]
  },
  {
   "cell_type": "code",
   "execution_count": 2,
   "id": "31c8817e",
   "metadata": {},
   "outputs": [
    {
     "name": "stdout",
     "output_type": "stream",
     "text": [
      "Cut:  2\n"
     ]
    }
   ],
   "source": [
    "n = 4\n",
    "if n==1:\n",
    "    print(\"Cut: \", 0)\n",
    "elif n%2 == 0:\n",
    "    print(\"Cut: \", int(n/2))\n",
    "else:\n",
    "    print(\"Cut: \", n)"
   ]
  }
 ],
 "metadata": {
  "kernelspec": {
   "display_name": "Python 3",
   "language": "python",
   "name": "python3"
  },
  "language_info": {
   "codemirror_mode": {
    "name": "ipython",
    "version": 3
   },
   "file_extension": ".py",
   "mimetype": "text/x-python",
   "name": "python",
   "nbconvert_exporter": "python",
   "pygments_lexer": "ipython3",
   "version": "3.13.3"
  }
 },
 "nbformat": 4,
 "nbformat_minor": 5
}
