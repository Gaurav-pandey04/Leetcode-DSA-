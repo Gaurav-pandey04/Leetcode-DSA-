{
 "cells": [
  {
   "cell_type": "markdown",
   "id": "5ec06808",
   "metadata": {},
   "source": [
    "# Reorder of power of 2"
   ]
  },
  {
   "cell_type": "code",
   "execution_count": null,
   "id": "b8e53025",
   "metadata": {},
   "outputs": [],
   "source": [
    "n = 128\n",
    "def digit_signature(x):\n",
    "        return ''.join(sorted(str(x)))\n",
    "    \n",
    "sig = digit_signature(n)\n",
    "\n",
    "# Check against all powers of two up to 10^9 (since n fits in int range)\n",
    "for i in range(31):  # 2^0 to 2^30\n",
    "    if digit_signature(1 << i) == sig:\n",
    "        print(True)\n",
    "    \n",
    "print(False)\n"
   ]
  },
  {
   "cell_type": "markdown",
   "id": "8f159796",
   "metadata": {},
   "source": [
    "## Explanation\n",
    "- Convert n to a sorted digit string → this is the signature of n.\n",
    "- Loop over all powers of two from 2^0 to 2^30\n",
    "- For each power of two:\n",
    "- Convert it to a string, sort its digits → get its signature.\n",
    "- If it matches n’s signature → return True.\n",
    "- If no match found after loop → return False.\n",
    "- This works because two numbers with the same sorted digits are permutations of each other."
   ]
  }
 ],
 "metadata": {
  "kernelspec": {
   "display_name": "Python 3",
   "language": "python",
   "name": "python3"
  },
  "language_info": {
   "codemirror_mode": {
    "name": "ipython",
    "version": 3
   },
   "file_extension": ".py",
   "mimetype": "text/x-python",
   "name": "python",
   "nbconvert_exporter": "python",
   "pygments_lexer": "ipython3",
   "version": "3.13.3"
  }
 },
 "nbformat": 4,
 "nbformat_minor": 5
}
