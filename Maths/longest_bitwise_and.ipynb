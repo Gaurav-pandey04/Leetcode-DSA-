{
 "cells": [
  {
   "cell_type": "markdown",
   "id": "e07b763c",
   "metadata": {},
   "source": [
    "# Longest subarray with Maximum Bitwise And "
   ]
  },
  {
   "cell_type": "markdown",
   "id": "3cf9c10b",
   "metadata": {},
   "source": [
    "#### Variable Decleration"
   ]
  },
  {
   "cell_type": "code",
   "execution_count": 34,
   "id": "aa16526f",
   "metadata": {},
   "outputs": [
    {
     "name": "stdout",
     "output_type": "stream",
     "text": [
      "3\n"
     ]
    }
   ],
   "source": [
    "nums = [1,2,3,3,2,2]\n",
    "max_val = max(nums)\n",
    "max_len = 0\n",
    "current_len = 0\n",
    "print(max_val)"
   ]
  },
  {
   "cell_type": "markdown",
   "id": "550baab1",
   "metadata": {},
   "source": [
    "#### Logic"
   ]
  },
  {
   "cell_type": "code",
   "execution_count": 35,
   "id": "338c1d9a",
   "metadata": {},
   "outputs": [
    {
     "name": "stdout",
     "output_type": "stream",
     "text": [
      "2\n"
     ]
    }
   ],
   "source": [
    "for num in nums:\n",
    "    if num == max_val:\n",
    "        current_len += 1\n",
    "        max_len = max(max_len, current_len)\n",
    "    else:\n",
    "        current_len = 0\n",
    "\n",
    "print(max_len)"
   ]
  },
  {
   "cell_type": "markdown",
   "id": "691f83dc",
   "metadata": {},
   "source": [
    "### Explanation"
   ]
  },
  {
   "cell_type": "markdown",
   "id": "8f9f2b3b",
   "metadata": {},
   "source": [
    "- Here the maximum bitwise and will be the maximum number in the array"
   ]
  },
  {
   "cell_type": "markdown",
   "id": "725d40b8",
   "metadata": {},
   "source": [
    "- so we are taking that number as max_val and checking with every number in nums"
   ]
  },
  {
   "cell_type": "markdown",
   "id": "769e6d83",
   "metadata": {},
   "source": [
    "- Then if it is same the current_len will be incremented by 1 and else it will be reset to 0"
   ]
  },
  {
   "cell_type": "markdown",
   "id": "2974c634",
   "metadata": {},
   "source": [
    "- Reseting to 0 is important because if array contains less than the maximum number then the maximum and's value will drop"
   ]
  },
  {
   "cell_type": "markdown",
   "id": "656f865a",
   "metadata": {},
   "source": [
    "- Complexity: Time Complexity: O(n) & Space Complexity: O(1)"
   ]
  }
 ],
 "metadata": {
  "kernelspec": {
   "display_name": "Python 3",
   "language": "python",
   "name": "python3"
  },
  "language_info": {
   "codemirror_mode": {
    "name": "ipython",
    "version": 3
   },
   "file_extension": ".py",
   "mimetype": "text/x-python",
   "name": "python",
   "nbconvert_exporter": "python",
   "pygments_lexer": "ipython3",
   "version": "3.13.3"
  }
 },
 "nbformat": 4,
 "nbformat_minor": 5
}
