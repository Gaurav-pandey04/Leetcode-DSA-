{
 "cells": [
  {
   "cell_type": "markdown",
   "id": "0e3ae9c8",
   "metadata": {},
   "source": [
    "# Minimum Operation To Make Integer Zero"
   ]
  },
  {
   "cell_type": "code",
   "execution_count": null,
   "id": "e2ec5146",
   "metadata": {},
   "outputs": [],
   "source": [
    "num1 = 3\n",
    "num2 = -2\n",
    "\n",
    "for k in range(1, 10**6):\n",
    "    x = num1 - k*num2\n",
    "    if x < k:\n",
    "        continue\n",
    "    if x >=0 and bin(x).count('1') <= k:\n",
    "        print(k)\n",
    "\n",
    "print(-1)"
   ]
  }
 ],
 "metadata": {
  "kernelspec": {
   "display_name": "Python 3",
   "language": "python",
   "name": "python3"
  },
  "language_info": {
   "codemirror_mode": {
    "name": "ipython",
    "version": 3
   },
   "file_extension": ".py",
   "mimetype": "text/x-python",
   "name": "python",
   "nbconvert_exporter": "python",
   "pygments_lexer": "ipython3",
   "version": "3.13.3"
  }
 },
 "nbformat": 4,
 "nbformat_minor": 5
}
