{
 "cells": [
  {
   "cell_type": "markdown",
   "id": "ea01cc59",
   "metadata": {},
   "source": [
    "# Power of 2"
   ]
  },
  {
   "cell_type": "code",
   "execution_count": 1,
   "id": "3ef3d631",
   "metadata": {},
   "outputs": [
    {
     "name": "stdout",
     "output_type": "stream",
     "text": [
      "True\n"
     ]
    }
   ],
   "source": [
    "n = 8\n",
    "print(n>0 and (n & (n-1)) == 0)"
   ]
  },
  {
   "cell_type": "markdown",
   "id": "3bca196c",
   "metadata": {},
   "source": [
    "1.\t`n > 0` Powers of 2 are positive integers (1, 2, 4, 8, 16, …), so anything that’s zero or negative can’t be a power of 2.\n",
    "2.\tBitwise AND: `(n & (n - 1)) == 0`\n",
    "- In binary, a number that is a power of 2 has exactly one `1` bit.\n",
    "- If you subtract 1 from such a number, all the bits after the single `1` flip to `1`.\n",
    "- Doing a bitwise AND (`&`) between them will make it exactly 0000"
   ]
  }
 ],
 "metadata": {
  "kernelspec": {
   "display_name": "Python 3",
   "language": "python",
   "name": "python3"
  },
  "language_info": {
   "codemirror_mode": {
    "name": "ipython",
    "version": 3
   },
   "file_extension": ".py",
   "mimetype": "text/x-python",
   "name": "python",
   "nbconvert_exporter": "python",
   "pygments_lexer": "ipython3",
   "version": "3.13.3"
  }
 },
 "nbformat": 4,
 "nbformat_minor": 5
}
