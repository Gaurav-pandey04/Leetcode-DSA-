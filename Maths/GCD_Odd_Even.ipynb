{
 "cells": [
  {
   "cell_type": "markdown",
   "id": "294c6d05",
   "metadata": {},
   "source": [
    "# GCD of N-th ODD & EVEN Number"
   ]
  },
  {
   "cell_type": "code",
   "execution_count": 9,
   "id": "085c46ef",
   "metadata": {},
   "outputs": [
    {
     "data": {
      "text/plain": [
       "6"
      ]
     },
     "execution_count": 9,
     "metadata": {},
     "output_type": "execute_result"
    }
   ],
   "source": [
    "n = 6\n",
    "\n",
    "def gcd(a, b):\n",
    "    while b:\n",
    "        a, b = b, a%b\n",
    "    return a\n",
    "gcd(n**2, n*(n+1))"
   ]
  }
 ],
 "metadata": {
  "kernelspec": {
   "display_name": "Python 3",
   "language": "python",
   "name": "python3"
  },
  "language_info": {
   "codemirror_mode": {
    "name": "ipython",
    "version": 3
   },
   "file_extension": ".py",
   "mimetype": "text/x-python",
   "name": "python",
   "nbconvert_exporter": "python",
   "pygments_lexer": "ipython3",
   "version": "3.13.3"
  }
 },
 "nbformat": 4,
 "nbformat_minor": 5
}
