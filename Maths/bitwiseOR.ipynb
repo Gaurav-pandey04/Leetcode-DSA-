{
 "cells": [
  {
   "cell_type": "markdown",
   "id": "5f8b0433",
   "metadata": {},
   "source": [
    "#  Count Number of Maximum Bitwise-OR Subsets"
   ]
  },
  {
   "cell_type": "markdown",
   "id": "db73770c",
   "metadata": {},
   "source": [
    "#### Representation of Bitwise OR operator in python"
   ]
  },
  {
   "cell_type": "code",
   "execution_count": 31,
   "id": "83bf8437",
   "metadata": {},
   "outputs": [
    {
     "name": "stdout",
     "output_type": "stream",
     "text": [
      "Binary of a:  0b1110\n",
      "Binary of b:  0b110\n",
      "Result: 14\n",
      "Binary of Result:  0b1110\n"
     ]
    }
   ],
   "source": [
    "a = 14\n",
    "b = 6\n",
    "\n",
    "c = a | b\n",
    "\n",
    "print(\"Binary of a: \", bin(a))\n",
    "print(\"Binary of b: \", bin(b))\n",
    "print(\"Result:\", c)\n",
    "print(\"Binary of Result: \", bin(c))"
   ]
  },
  {
   "cell_type": "markdown",
   "id": "32b9e521",
   "metadata": {},
   "source": [
    "#### Declaration of variables"
   ]
  },
  {
   "cell_type": "code",
   "execution_count": 35,
   "id": "732f48f1",
   "metadata": {},
   "outputs": [],
   "source": [
    "nums = [3,2,1,5]\n",
    "n = len(nums)\n",
    "count = 0\n",
    "max_or = 0"
   ]
  },
  {
   "cell_type": "markdown",
   "id": "87cdad4c",
   "metadata": {},
   "source": [
    "#### Logic"
   ]
  },
  {
   "cell_type": "code",
   "execution_count": 36,
   "id": "b785d235",
   "metadata": {},
   "outputs": [
    {
     "name": "stdout",
     "output_type": "stream",
     "text": [
      "6\n"
     ]
    }
   ],
   "source": [
    "for i in range(1, 1 << n):\n",
    "    current_or = 0\n",
    "    for j in range(n):\n",
    "        if i & (1 << j):\n",
    "            current_or |= nums[j]\n",
    "    \n",
    "    if current_or > max_or:\n",
    "        max_or = current_or\n",
    "        count = 1\n",
    "    elif current_or == max_or:\n",
    "        count += 1\n",
    "\n",
    "#Output\n",
    "print(count)"
   ]
  }
 ],
 "metadata": {
  "kernelspec": {
   "display_name": "Python 3",
   "language": "python",
   "name": "python3"
  },
  "language_info": {
   "codemirror_mode": {
    "name": "ipython",
    "version": 3
   },
   "file_extension": ".py",
   "mimetype": "text/x-python",
   "name": "python",
   "nbconvert_exporter": "python",
   "pygments_lexer": "ipython3",
   "version": "3.13.3"
  }
 },
 "nbformat": 4,
 "nbformat_minor": 5
}
