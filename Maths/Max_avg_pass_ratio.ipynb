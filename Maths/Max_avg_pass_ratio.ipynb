{
 "cells": [
  {
   "cell_type": "markdown",
   "id": "6d1f6b8f",
   "metadata": {},
   "source": [
    "# Maximum Average Pass Ratio"
   ]
  },
  {
   "cell_type": "code",
   "execution_count": null,
   "id": "a339a314",
   "metadata": {},
   "outputs": [
    {
     "name": "stdout",
     "output_type": "stream",
     "text": [
      "0.5348484848484849\n"
     ]
    }
   ],
   "source": [
    "import heapq\n",
    "classes = [[2,4],[3,9],[4,5],[2,10]]\n",
    "extraStudents = 4\n",
    "\n",
    "def gain(passed, total):\n",
    "    return (passed+1)/(total+1) - passed/total\n",
    "\n",
    "heap = [(-gain(p, t), p,t ) for p,t in classes]\n",
    "\n",
    "heapq.heapify(heap)\n",
    "\n",
    "for _ in range(extraStudents):\n",
    "    g, p, t = heapq.heappop(heap)  \n",
    "    p, t = p + 1, t + 1            \n",
    "    heapq.heappush(heap, (-gain(p, t), p, t))\n",
    "\n",
    "print(sum(p / t for _, p, t in heap) / len(classes))"
   ]
  }
 ],
 "metadata": {
  "kernelspec": {
   "display_name": "Python 3",
   "language": "python",
   "name": "python3"
  },
  "language_info": {
   "codemirror_mode": {
    "name": "ipython",
    "version": 3
   },
   "file_extension": ".py",
   "mimetype": "text/x-python",
   "name": "python",
   "nbconvert_exporter": "python",
   "pygments_lexer": "ipython3",
   "version": "3.13.3"
  }
 },
 "nbformat": 4,
 "nbformat_minor": 5
}
