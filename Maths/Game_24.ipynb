{
 "cells": [
  {
   "cell_type": "markdown",
   "id": "51574084",
   "metadata": {},
   "source": [
    "# 24 Game"
   ]
  },
  {
   "cell_type": "code",
   "execution_count": 11,
   "id": "275d6f96",
   "metadata": {},
   "outputs": [
    {
     "data": {
      "text/plain": [
       "True"
      ]
     },
     "execution_count": 11,
     "metadata": {},
     "output_type": "execute_result"
    }
   ],
   "source": [
    "cards = [4,1,8,7]\n",
    "EPS = 1e-6\n",
    "\n",
    "def dfs(nums):\n",
    "    if len(nums) == 1:\n",
    "        return abs(nums[0]-24) < EPS\n",
    "\n",
    "    for i in range(len(nums)):\n",
    "        for j in range(len(nums)):\n",
    "            if i == j: continue\n",
    "            next_nums = [nums[k] for k in range(len(nums)) if k !=i and k!=j]\n",
    "            for op in [nums[i]+nums[j], nums[i]-nums[j], nums[j]-nums[i], nums[i]*nums[j]]:\n",
    "                if dfs(next_nums+[op]):\n",
    "                    return True\n",
    "            if abs(nums[j]) > EPS and dfs(next_nums + [nums[i]/ nums[j]]):\n",
    "                return True\n",
    "            if abs(nums[j]) > EPS and dfs(next_nums + [nums[j]/ nums[i]]):\n",
    "                return True\n",
    "    return False\n",
    "\n",
    "dfs(cards)"
   ]
  },
  {
   "cell_type": "code",
   "execution_count": 12,
   "id": "3d70d6e4",
   "metadata": {},
   "outputs": [
    {
     "data": {
      "text/plain": [
       "True"
      ]
     },
     "execution_count": 12,
     "metadata": {},
     "output_type": "execute_result"
    }
   ],
   "source": [
    "cards = [4,1,8,7]\n",
    "EPS = 1e-6\n",
    "\n",
    "def dfs(nums):\n",
    "    if len(nums) == 1:\n",
    "        return abs(nums[0] - 24.0) < EPS\n",
    "\n",
    "    for i in range(len(nums)):\n",
    "        for j in range(len(nums)):\n",
    "            if i == j:\n",
    "                continue\n",
    "            next_nums = [nums[k] for k in range(len(nums)) if k != i and k != j]\n",
    "            a, b = nums[i], nums[j]\n",
    "            candidates = [a + b, a - b, b - a, a * b]\n",
    "            if abs(b) > EPS:\n",
    "                candidates.append(a / b)\n",
    "            if abs(a) > EPS:\n",
    "                candidates.append(b / a)\n",
    "\n",
    "            for val in candidates:\n",
    "                if dfs(next_nums + [val]):\n",
    "                    return True\n",
    "    return False\n",
    "\n",
    "dfs([float(x) for x in cards])"
   ]
  }
 ],
 "metadata": {
  "kernelspec": {
   "display_name": "Python 3",
   "language": "python",
   "name": "python3"
  },
  "language_info": {
   "codemirror_mode": {
    "name": "ipython",
    "version": 3
   },
   "file_extension": ".py",
   "mimetype": "text/x-python",
   "name": "python",
   "nbconvert_exporter": "python",
   "pygments_lexer": "ipython3",
   "version": "3.13.3"
  }
 },
 "nbformat": 4,
 "nbformat_minor": 5
}
