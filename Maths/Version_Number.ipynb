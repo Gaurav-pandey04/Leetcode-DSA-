{
 "cells": [
  {
   "cell_type": "markdown",
   "id": "9c52b310",
   "metadata": {},
   "source": [
    "# Compare the version Number"
   ]
  },
  {
   "cell_type": "code",
   "execution_count": 29,
   "id": "36209c4f",
   "metadata": {},
   "outputs": [],
   "source": [
    "# Variable Declaration\n",
    "version1 = \"1.0\" \n",
    "version2 = \"1.0.0.0\""
   ]
  },
  {
   "cell_type": "code",
   "execution_count": 30,
   "id": "6e3c3430",
   "metadata": {},
   "outputs": [
    {
     "name": "stdout",
     "output_type": "stream",
     "text": [
      "V1 Parts: [1, 0]\n",
      "V2 Parts: [1, 0, 0, 0]\n"
     ]
    }
   ],
   "source": [
    "# Spliting the numbers in version\n",
    "v1_parts = list(map(int, version1.split('.')))\n",
    "v2_parts = list(map(int, version2.split('.')))\n",
    "\n",
    "print(\"V1 Parts:\" ,v1_parts)\n",
    "print(\"V2 Parts:\", v2_parts)"
   ]
  },
  {
   "cell_type": "code",
   "execution_count": 31,
   "id": "1e20bc07",
   "metadata": {},
   "outputs": [
    {
     "name": "stdout",
     "output_type": "stream",
     "text": [
      "V1 Parts: [1, 0, 0, 0]\n",
      "V2 Parts: [1, 0, 0, 0]\n"
     ]
    }
   ],
   "source": [
    "# Pad the shorter list version with zero\n",
    "max_len = max(len(v1_parts), len(v2_parts))\n",
    "v1_parts.extend([0]*(max_len-len(v1_parts)))\n",
    "v2_parts.extend([0]*(max_len-len(v2_parts)))\n",
    "\n",
    "print(\"V1 Parts:\" ,v1_parts)\n",
    "print(\"V2 Parts:\", v2_parts)"
   ]
  },
  {
   "cell_type": "code",
   "execution_count": 32,
   "id": "763f4c02",
   "metadata": {},
   "outputs": [
    {
     "name": "stdout",
     "output_type": "stream",
     "text": [
      "0\n"
     ]
    }
   ],
   "source": [
    "# Compare each revision\n",
    "for i in range(max_len):\n",
    "    if v1_parts[i] < v2_parts[i]:\n",
    "        print(-1)\n",
    "    elif v2_parts[i] > v2_parts[i]:\n",
    "        print(1)\n",
    "\n",
    "print(0)"
   ]
  }
 ],
 "metadata": {
  "kernelspec": {
   "display_name": "Python 3",
   "language": "python",
   "name": "python3"
  },
  "language_info": {
   "codemirror_mode": {
    "name": "ipython",
    "version": 3
   },
   "file_extension": ".py",
   "mimetype": "text/x-python",
   "name": "python",
   "nbconvert_exporter": "python",
   "pygments_lexer": "ipython3",
   "version": "3.13.3"
  }
 },
 "nbformat": 4,
 "nbformat_minor": 5
}
