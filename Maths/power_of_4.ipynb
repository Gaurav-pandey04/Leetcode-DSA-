{
 "cells": [
  {
   "cell_type": "markdown",
   "id": "ef32691c",
   "metadata": {},
   "source": [
    "# Power of 4"
   ]
  },
  {
   "cell_type": "code",
   "execution_count": 6,
   "id": "8814a6f3",
   "metadata": {},
   "outputs": [
    {
     "data": {
      "text/plain": [
       "True"
      ]
     },
     "execution_count": 6,
     "metadata": {},
     "output_type": "execute_result"
    }
   ],
   "source": [
    "n = 16\n",
    "def ispower(n):\n",
    "    return n>0 and (n&(n-1)==0) and (n%3==1) \n",
    "ispower(n)"
   ]
  },
  {
   "cell_type": "markdown",
   "id": "00f65b2c",
   "metadata": {},
   "source": [
    "### Explanation\n",
    "If n is positive, is a power of 2, and `(n-1) % 3 == 0`, then n is a power of 4."
   ]
  }
 ],
 "metadata": {
  "kernelspec": {
   "display_name": "Python 3",
   "language": "python",
   "name": "python3"
  },
  "language_info": {
   "codemirror_mode": {
    "name": "ipython",
    "version": 3
   },
   "file_extension": ".py",
   "mimetype": "text/x-python",
   "name": "python",
   "nbconvert_exporter": "python",
   "pygments_lexer": "ipython3",
   "version": "3.13.3"
  }
 },
 "nbformat": 4,
 "nbformat_minor": 5
}
