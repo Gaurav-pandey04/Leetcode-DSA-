{
 "cells": [
  {
   "cell_type": "markdown",
   "id": "50aa475c",
   "metadata": {},
   "source": [
    "# Pascal Triangle"
   ]
  },
  {
   "cell_type": "markdown",
   "id": "48cf7f29",
   "metadata": {},
   "source": [
    "### Variable Declaration"
   ]
  },
  {
   "cell_type": "code",
   "execution_count": 27,
   "id": "3b4d3f10",
   "metadata": {},
   "outputs": [],
   "source": [
    "import time\n",
    "\n",
    "start_time = time.time()\n",
    "import math\n",
    "numsRows = 5\n",
    "result = []"
   ]
  },
  {
   "cell_type": "markdown",
   "id": "d5ce8e0f",
   "metadata": {},
   "source": [
    "### Logic"
   ]
  },
  {
   "cell_type": "code",
   "execution_count": 28,
   "id": "17de7527",
   "metadata": {},
   "outputs": [
    {
     "name": "stdout",
     "output_type": "stream",
     "text": [
      "[[1], [1, 1], [1, 2, 1], [1, 3, 3, 1], [1, 4, 6, 4, 1]]\n",
      "Runtime:  1.809016227722168\n"
     ]
    }
   ],
   "source": [
    "for i in range(numsRows):\n",
    "    row = []\n",
    "    for j in range(i+1):\n",
    "        val = (math.factorial(i)) / ((math.factorial(j))*(math.factorial(i-j)))\n",
    "        row.append(int(val))\n",
    "    result.append(row)\n",
    "\n",
    "end_time = time.time()\n",
    "print(result)\n",
    "print(\"Runtime: \", end_time-start_time)"
   ]
  }
 ],
 "metadata": {
  "kernelspec": {
   "display_name": "Python 3",
   "language": "python",
   "name": "python3"
  },
  "language_info": {
   "codemirror_mode": {
    "name": "ipython",
    "version": 3
   },
   "file_extension": ".py",
   "mimetype": "text/x-python",
   "name": "python",
   "nbconvert_exporter": "python",
   "pygments_lexer": "ipython3",
   "version": "3.13.3"
  }
 },
 "nbformat": 4,
 "nbformat_minor": 5
}
