{
 "cells": [
  {
   "cell_type": "markdown",
   "id": "115783e1",
   "metadata": {},
   "source": [
    "# Valid Triangle Number"
   ]
  },
  {
   "cell_type": "code",
   "execution_count": 6,
   "id": "c66bfcd6",
   "metadata": {},
   "outputs": [],
   "source": [
    "nums = [2,2,3,4]\n",
    "\n",
    "nums.sort()\n",
    "n = len(nums)\n",
    "count = 0"
   ]
  },
  {
   "cell_type": "code",
   "execution_count": 7,
   "id": "5d03be3b",
   "metadata": {},
   "outputs": [
    {
     "data": {
      "text/plain": [
       "1"
      ]
     },
     "execution_count": 7,
     "metadata": {},
     "output_type": "execute_result"
    }
   ],
   "source": [
    "for k in range(n-1, 1, -1):\n",
    "    i, j = 0, k-1\n",
    "    while i < j:\n",
    "        if nums[i] + nums[j] > nums[k]:\n",
    "            count += (j-1)\n",
    "            j -= 1\n",
    "        else:\n",
    "            i += 1\n",
    "\n",
    "count"
   ]
  }
 ],
 "metadata": {
  "kernelspec": {
   "display_name": "Python 3",
   "language": "python",
   "name": "python3"
  },
  "language_info": {
   "codemirror_mode": {
    "name": "ipython",
    "version": 3
   },
   "file_extension": ".py",
   "mimetype": "text/x-python",
   "name": "python",
   "nbconvert_exporter": "python",
   "pygments_lexer": "ipython3",
   "version": "3.13.3"
  }
 },
 "nbformat": 4,
 "nbformat_minor": 5
}
