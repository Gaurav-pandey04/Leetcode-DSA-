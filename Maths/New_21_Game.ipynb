{
 "cells": [
  {
   "cell_type": "markdown",
   "id": "58865e20",
   "metadata": {},
   "source": [
    "# New 21 Game"
   ]
  },
  {
   "cell_type": "code",
   "execution_count": null,
   "id": "ab45c94a",
   "metadata": {},
   "outputs": [],
   "source": [
    "n = 6\n",
    "k = 1\n",
    "maxPts = 10"
   ]
  },
  {
   "cell_type": "code",
   "execution_count": null,
   "id": "b7149682",
   "metadata": {},
   "outputs": [],
   "source": [
    "dp = [0]*(n+1)\n",
    "dp[0] = 1\n",
    "for i in range(1, n+1):\n",
    "    for j in range(1, maxPts+1):\n",
    "        if i-j >=0 and i-j<k:\n",
    "            dp[i] += dp[i-j]/maxPts\n",
    "\n",
    "print(sum(dp[k:]))"
   ]
  },
  {
   "cell_type": "code",
   "execution_count": null,
   "id": "86b81233",
   "metadata": {},
   "outputs": [],
   "source": [
    "if k == 0 or n >= k + maxPts:\n",
    "    print(1.0)\n",
    "\n",
    "dp = [0.0] * (n + 1)\n",
    "dp[0] = 1.0\n",
    "window_sum = 1.0  # running sum of last maxPts probabilities\n",
    "res = 0.0\n",
    "\n",
    "for i in range(1, n + 1):\n",
    "    dp[i] = window_sum / maxPts\n",
    "    if i < k:\n",
    "        window_sum += dp[i]\n",
    "    else:\n",
    "        res += dp[i]\n",
    "    if i - maxPts >= 0:\n",
    "        window_sum -= dp[i - maxPts]\n",
    "\n",
    "print(res)"
   ]
  }
 ],
 "metadata": {
  "kernelspec": {
   "display_name": "Python 3",
   "language": "python",
   "name": "python3"
  },
  "language_info": {
   "codemirror_mode": {
    "name": "ipython",
    "version": 3
   },
   "file_extension": ".py",
   "mimetype": "text/x-python",
   "name": "python",
   "nbconvert_exporter": "python",
   "pygments_lexer": "ipython3",
   "version": "3.13.3"
  }
 },
 "nbformat": 4,
 "nbformat_minor": 5
}
