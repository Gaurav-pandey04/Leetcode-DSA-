{
 "cells": [
  {
   "cell_type": "markdown",
   "id": "df05d1fb",
   "metadata": {},
   "source": [
    "# Merge Two Sorted Linked List"
   ]
  },
  {
   "cell_type": "markdown",
   "id": "b9b3f174",
   "metadata": {},
   "source": [
    "### Leetcode Precode"
   ]
  },
  {
   "cell_type": "code",
   "execution_count": null,
   "id": "6954480d",
   "metadata": {},
   "outputs": [],
   "source": [
    "# # Definition for singly-linked list.\n",
    "# # class ListNode(object):\n",
    "# #     def __init__(self, val=0, next=None):\n",
    "# #         self.val = val\n",
    "# #         self.next = next\n",
    "# class Solution(object):\n",
    "#     def mergeTwoLists(self, list1, list2):\n",
    "#         \"\"\"\n",
    "#         :type list1: Optional[ListNode]\n",
    "#         :type list2: Optional[ListNode]\n",
    "#         :rtype: Optional[ListNode]\n",
    "#         \"\"\""
   ]
  },
  {
   "cell_type": "markdown",
   "id": "2ec8ef65",
   "metadata": {},
   "source": [
    "#### Initialising the dummy node to store the new merged linkedlist"
   ]
  },
  {
   "cell_type": "code",
   "execution_count": null,
   "id": "0ca215d0",
   "metadata": {},
   "outputs": [],
   "source": [
    "dummy = ListNode()\n",
    "current = dummy"
   ]
  },
  {
   "cell_type": "markdown",
   "id": "d5b5a1cb",
   "metadata": {},
   "source": [
    "#### Cheking for edge cases"
   ]
  },
  {
   "cell_type": "code",
   "execution_count": null,
   "id": "77827592",
   "metadata": {},
   "outputs": [],
   "source": [
    "if list1 is None and list2 is None:\n",
    "    return None\n",
    "elif list1 is None:\n",
    "    return list2\n",
    "elif list2 is None:\n",
    "    return list1"
   ]
  },
  {
   "cell_type": "markdown",
   "id": "0c088871",
   "metadata": {},
   "source": [
    "#### Logic to Merge the LinkedList"
   ]
  },
  {
   "cell_type": "code",
   "execution_count": null,
   "id": "0d00d0af",
   "metadata": {},
   "outputs": [],
   "source": [
    "while list1 and list2:\n",
    "    if list1.val < list2.val:\n",
    "        current.next = list1\n",
    "        list1 = list1.next\n",
    "    else:\n",
    "        current.next = list2\n",
    "        list2 = list2.next\n",
    "    current = current.next\n",
    "\n",
    "    if list1:\n",
    "        current.next = list1\n",
    "    elif list2:\n",
    "        current.next = list2"
   ]
  },
  {
   "cell_type": "markdown",
   "id": "40152a23",
   "metadata": {},
   "source": [
    "#### Output"
   ]
  },
  {
   "cell_type": "code",
   "execution_count": null,
   "id": "399a577b",
   "metadata": {},
   "outputs": [],
   "source": [
    "return dummy.next"
   ]
  },
  {
   "cell_type": "markdown",
   "id": "4571682f",
   "metadata": {},
   "source": [
    "## Explanation"
   ]
  },
  {
   "cell_type": "markdown",
   "id": "72854ba3",
   "metadata": {},
   "source": [
    "- In this code we aren't creating the new node rather we are just re-pointing the node which are already present in list1 or list2"
   ]
  },
  {
   "cell_type": "markdown",
   "id": "290b775d",
   "metadata": {},
   "source": [
    "- dummy listnode always point to start of the listnode and current is used as a pointer to change everytime in thi listnode"
   ]
  },
  {
   "cell_type": "markdown",
   "id": "bc50b176",
   "metadata": {},
   "source": [
    "- Complexity: Time Complexity: O(n + m) & Space Complexity: O(1)"
   ]
  }
 ],
 "metadata": {
  "kernelspec": {
   "display_name": "Python 3",
   "language": "python",
   "name": "python3"
  },
  "language_info": {
   "name": "python",
   "version": "3.13.3"
  }
 },
 "nbformat": 4,
 "nbformat_minor": 5
}
