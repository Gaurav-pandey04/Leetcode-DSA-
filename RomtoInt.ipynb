{
 "cells": [
  {
   "cell_type": "markdown",
   "id": "4eb5c1b3",
   "metadata": {},
   "source": [
    "# Convert Integer to Roman"
   ]
  },
  {
   "cell_type": "markdown",
   "id": "64a9c3ca",
   "metadata": {},
   "source": [
    "#### Declaration of variable"
   ]
  },
  {
   "cell_type": "code",
   "execution_count": 22,
   "id": "8167f42a",
   "metadata": {},
   "outputs": [],
   "source": [
    "num = 3489\n",
    "value_map = [\n",
    "        (1000, \"M\"),\n",
    "        (900, \"CM\"),\n",
    "        (500, \"D\"),\n",
    "        (400, \"CD\"),\n",
    "        (100, \"C\"),\n",
    "        (90, \"XC\"),\n",
    "        (50, \"L\"),\n",
    "        (40, \"XL\"),\n",
    "        (10, \"X\"),\n",
    "        (9, \"IX\"),\n",
    "        (5, \"V\"),\n",
    "        (4, \"IV\"),\n",
    "        (1, \"I\")\n",
    "    ]\n",
    "roman = ''"
   ]
  },
  {
   "cell_type": "markdown",
   "id": "162dbfc7",
   "metadata": {},
   "source": [
    "#### Logic"
   ]
  },
  {
   "cell_type": "code",
   "execution_count": 23,
   "id": "23aaa7ad",
   "metadata": {},
   "outputs": [],
   "source": [
    "for values, symbol in value_map:\n",
    "    while num >= values:\n",
    "        roman += symbol\n",
    "        num -= values"
   ]
  },
  {
   "cell_type": "markdown",
   "id": "397799e7",
   "metadata": {},
   "source": [
    "#### Output"
   ]
  },
  {
   "cell_type": "code",
   "execution_count": 24,
   "id": "c2cb0f8a",
   "metadata": {},
   "outputs": [
    {
     "name": "stdout",
     "output_type": "stream",
     "text": [
      "MMMCDLXXXIX\n"
     ]
    }
   ],
   "source": [
    "print(roman)"
   ]
  }
 ],
 "metadata": {
  "kernelspec": {
   "display_name": "Python 3",
   "language": "python",
   "name": "python3"
  },
  "language_info": {
   "codemirror_mode": {
    "name": "ipython",
    "version": 3
   },
   "file_extension": ".py",
   "mimetype": "text/x-python",
   "name": "python",
   "nbconvert_exporter": "python",
   "pygments_lexer": "ipython3",
   "version": "3.13.3"
  }
 },
 "nbformat": 4,
 "nbformat_minor": 5
}
