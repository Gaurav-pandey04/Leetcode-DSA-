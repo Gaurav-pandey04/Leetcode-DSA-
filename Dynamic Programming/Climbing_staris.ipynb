{
 "cells": [
  {
   "cell_type": "markdown",
   "id": "4a8d9a75",
   "metadata": {},
   "source": [
    "# Climibing Staris "
   ]
  },
  {
   "cell_type": "markdown",
   "id": "6c331f02",
   "metadata": {},
   "source": [
    "### Recursion"
   ]
  },
  {
   "cell_type": "code",
   "execution_count": null,
   "id": "09992779",
   "metadata": {},
   "outputs": [
    {
     "name": "stdout",
     "output_type": "stream",
     "text": [
      "13\n"
     ]
    }
   ],
   "source": [
    "n = 6\n",
    "if n<2:\n",
    "    print(1)\n",
    "\n",
    "a, b = 1, 1\n",
    "for _ in range(2, n+1):\n",
    "    a, b = b, a+b\n",
    "\n",
    "print(b)"
   ]
  },
  {
   "cell_type": "markdown",
   "id": "e5bc268f",
   "metadata": {},
   "source": [
    "### Dynamic Approach"
   ]
  },
  {
   "cell_type": "code",
   "execution_count": 8,
   "id": "71177526",
   "metadata": {},
   "outputs": [
    {
     "data": {
      "text/plain": [
       "8"
      ]
     },
     "execution_count": 8,
     "metadata": {},
     "output_type": "execute_result"
    }
   ],
   "source": [
    "n = 5\n",
    "dp = [0]*(n+1)\n",
    "dp[0] = 1\n",
    "dp[1] = 1\n",
    "\n",
    "for i in range(2, n+1):\n",
    "    dp[i] = dp[i-1]+dp[i-2]\n",
    "\n",
    "dp[n]"
   ]
  }
 ],
 "metadata": {
  "kernelspec": {
   "display_name": "Python 3",
   "language": "python",
   "name": "python3"
  },
  "language_info": {
   "codemirror_mode": {
    "name": "ipython",
    "version": 3
   },
   "file_extension": ".py",
   "mimetype": "text/x-python",
   "name": "python",
   "nbconvert_exporter": "python",
   "pygments_lexer": "ipython3",
   "version": "3.13.3"
  }
 },
 "nbformat": 4,
 "nbformat_minor": 5
}
