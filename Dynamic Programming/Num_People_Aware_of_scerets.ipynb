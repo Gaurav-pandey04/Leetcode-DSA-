{
 "cells": [
  {
   "cell_type": "markdown",
   "id": "5a801d74",
   "metadata": {},
   "source": [
    "# Number of People Aware of Scerets"
   ]
  },
  {
   "cell_type": "code",
   "execution_count": null,
   "id": "f247f0fd",
   "metadata": {},
   "outputs": [],
   "source": [
    "n = 6 \n",
    "delay = 2\n",
    "forget = 4\n",
    "\n",
    "Mod = 10**9+7\n",
    "\n",
    "dp = [0] * (n+1)\n",
    "dp[1] = 1\n",
    "\n",
    "for i in range(1, n+1):\n",
    "    for j in range(i+delay, min(i+forget, n+1)):\n",
    "        dp[j] = (dp[j]+dp[i])%Mod\n",
    "\n",
    "ans = 0\n",
    "for i in range(n-forget+1, n+1):\n",
    "    ans = (ans+dp[i])%Mod\n",
    "\n",
    "ans\n",
    "dp"
   ]
  }
 ],
 "metadata": {
  "kernelspec": {
   "display_name": "Python 3",
   "language": "python",
   "name": "python3"
  },
  "language_info": {
   "codemirror_mode": {
    "name": "ipython",
    "version": 3
   },
   "file_extension": ".py",
   "mimetype": "text/x-python",
   "name": "python",
   "nbconvert_exporter": "python",
   "pygments_lexer": "ipython3",
   "version": "3.13.3"
  }
 },
 "nbformat": 4,
 "nbformat_minor": 5
}
