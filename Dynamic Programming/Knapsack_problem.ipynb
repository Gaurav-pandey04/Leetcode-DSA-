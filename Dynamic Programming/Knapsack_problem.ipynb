{
 "cells": [
  {
   "cell_type": "markdown",
   "id": "580fdbed",
   "metadata": {},
   "source": [
    "# 0/1 Knapsack Probelm"
   ]
  },
  {
   "cell_type": "markdown",
   "id": "eb15bf47",
   "metadata": {},
   "source": [
    "The 0/1 Knapsack Problem states that you have a backpack with a weight limit, and you are in a room full of treasures, each treasure with a value and a weight.\n",
    "\n",
    "To solve the 0/1 Knapsack Problem you must figure out which treasures to pack to maximize the total value, and at the same time keeping below the backpack's weight limit.\n",
    "\n",
    "Rules:\n",
    "- Every item has a weight and value.\n",
    "- Your knapsack has a weight limit.\n",
    "- Choose which items you want to bring with you in the knapsack.\n",
    "- You can either take an item or not, you cannot take half of an item for example.\n",
    "\n",
    "Goal:\n",
    "- Maximize the total value of the items in the knapsack."
   ]
  },
  {
   "cell_type": "markdown",
   "id": "2748793c",
   "metadata": {},
   "source": [
    "### The Brute Force Approach\n",
    "Consider each item one at a time.\n",
    "- If there is capacity left for the current item, add it by adding its value and reducing the remaining capacity with its weight. Then call the function on itself for the next item.\n",
    "- Also, try not adding the current item before calling the function on itself for the next item.\n",
    "\n",
    "Return the maximum value from the two scenarios above (adding the current item, or not adding it)."
   ]
  },
  {
   "cell_type": "code",
   "execution_count": 6,
   "id": "1387695f",
   "metadata": {},
   "outputs": [
    {
     "name": "stdout",
     "output_type": "stream",
     "text": [
      "\n",
      "Maximum value in Knapsack = 1200\n"
     ]
    }
   ],
   "source": [
    "def knapsack_brute_force(capacity, n):\n",
    "    #print(f\"Knapsack Brute Force Approach: {capacity}, {n}\")\n",
    "    \n",
    "    if capacity==0 or n==0:\n",
    "        return 0 \n",
    "    \n",
    "    elif weights[n-1] > capacity:\n",
    "        return knapsack_brute_force(capacity, n-1)\n",
    "\n",
    "    else:\n",
    "        include_items = values[n-1] + knapsack_brute_force(capacity - weights[n-1], n-1)\n",
    "        exclude_items = knapsack_brute_force(capacity, n-1)\n",
    "        return max(include_items, exclude_items)\n",
    "    \n",
    "values = [300, 200, 400, 500]\n",
    "weights = [2, 1, 5, 3]\n",
    "capacity = 10\n",
    "n = len(values)\n",
    "\n",
    "print(\"\\nMaximum value in Knapsack =\", knapsack_brute_force(capacity, n))"
   ]
  }
 ],
 "metadata": {
  "kernelspec": {
   "display_name": "Python 3",
   "language": "python",
   "name": "python3"
  },
  "language_info": {
   "codemirror_mode": {
    "name": "ipython",
    "version": 3
   },
   "file_extension": ".py",
   "mimetype": "text/x-python",
   "name": "python",
   "nbconvert_exporter": "python",
   "pygments_lexer": "ipython3",
   "version": "3.13.3"
  }
 },
 "nbformat": 4,
 "nbformat_minor": 5
}
