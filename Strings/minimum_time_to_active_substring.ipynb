{
 "cells": [
  {
   "cell_type": "code",
   "execution_count": 2,
   "id": "6dbfa9f0",
   "metadata": {},
   "outputs": [],
   "source": [
    "s = \"abc\"\n",
    "order = [1,0,2]\n",
    "k = 2\n",
    "n = len(s)"
   ]
  },
  {
   "cell_type": "code",
   "execution_count": 3,
   "id": "1d005696",
   "metadata": {},
   "outputs": [
    {
     "name": "stdout",
     "output_type": "stream",
     "text": [
      "0\n",
      "1\n",
      "2\n",
      "-1\n"
     ]
    }
   ],
   "source": [
    "strg = list(s)\n",
    "for t in range(n):\n",
    "    strg[order[t]] = '*'  # replace at time t\n",
    "\n",
    "    valid_substrings = 0\n",
    "    for i in range(n):\n",
    "        for j in range(i + 1, n + 1):\n",
    "            if '*' in strg[i:j]:\n",
    "                valid_substrings += 1\n",
    "\n",
    "    if valid_substrings >= k:\n",
    "        print(t)   # time t when the string becomes active\n",
    "\n",
    "print(-1)  # If it never became active"
   ]
  }
 ],
 "metadata": {
  "kernelspec": {
   "display_name": "Python 3",
   "language": "python",
   "name": "python3"
  },
  "language_info": {
   "codemirror_mode": {
    "name": "ipython",
    "version": 3
   },
   "file_extension": ".py",
   "mimetype": "text/x-python",
   "name": "python",
   "nbconvert_exporter": "python",
   "pygments_lexer": "ipython3",
   "version": "3.13.3"
  }
 },
 "nbformat": 4,
 "nbformat_minor": 5
}
