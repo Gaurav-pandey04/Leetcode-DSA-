{
 "cells": [
  {
   "cell_type": "markdown",
   "id": "6cb54ffe",
   "metadata": {},
   "source": [
    "# Maximum number of words you can type"
   ]
  },
  {
   "cell_type": "code",
   "execution_count": 13,
   "id": "3d223e7b",
   "metadata": {},
   "outputs": [
    {
     "data": {
      "text/plain": [
       "1"
      ]
     },
     "execution_count": 13,
     "metadata": {},
     "output_type": "execute_result"
    }
   ],
   "source": [
    "text = \"hello world\" \n",
    "brokenLetters = \"ad\"\n",
    "\n",
    "broken_letter_set = set(brokenLetters)\n",
    "words = text.split()\n",
    "count = 0\n",
    "\n",
    "for word in words:\n",
    "    if all(ch not in broken_letter_set for ch in word):\n",
    "        count += 1\n",
    "\n",
    "count"
   ]
  }
 ],
 "metadata": {
  "kernelspec": {
   "display_name": "Python 3",
   "language": "python",
   "name": "python3"
  },
  "language_info": {
   "codemirror_mode": {
    "name": "ipython",
    "version": 3
   },
   "file_extension": ".py",
   "mimetype": "text/x-python",
   "name": "python",
   "nbconvert_exporter": "python",
   "pygments_lexer": "ipython3",
   "version": "3.13.3"
  }
 },
 "nbformat": 4,
 "nbformat_minor": 5
}
