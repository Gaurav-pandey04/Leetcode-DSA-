{
 "cells": [
  {
   "cell_type": "markdown",
   "id": "74e842db",
   "metadata": {},
   "source": [
    "# Longest common subsequecne "
   ]
  },
  {
   "cell_type": "markdown",
   "id": "3cd1ea17",
   "metadata": {},
   "source": [
    "Given two strings, s1 and s2, the task is to find the length of the Longest Common Subsequence. If there is no common subsequence, return 0. A subsequence is a string generated from the original string by deleting 0 or more characters, without changing the relative order of the remaining characters.\n",
    "\n",
    "For example, subsequences of \"ABC\" are \"\", \"A\", \"B\", \"C\", \"AB\", \"AC\", \"BC\" and \"ABC\". In general, a string of length n has 2n subsequences.\n",
    "\n",
    "```\n",
    "Input: s1 = \"ABC\", s2 = \"ACD\"\n",
    "Output: 2\n",
    "Explanation: The longest subsequence which is present in both strings is \"AC\".\n",
    "\n",
    "Input: s1 = \"AGGTAB\", s2 = \"GXTXAYB\"\n",
    "Output: 4\n",
    "Explanation: The longest common subsequence is \"GTAB\".\n",
    "\n",
    "Input: s1 = \"ABC\", s2 = \"CBA\"\n",
    "Output: 1\n",
    "Explanation: There are three longest common subsequences of length 1, \"A\", \"B\" and \"C\". "
   ]
  },
  {
   "cell_type": "markdown",
   "id": "51bc676e",
   "metadata": {},
   "source": [
    "## [Naive Approach] Recursion - O(2 ^ min(m, n)) Time and O(min(m, n)) Space\n",
    "\n",
    "The idea is to compare the last characters of s1 and s2. While comparing the strings s1 and s2 two cases arise:\n",
    "- Match : Make the recursion call for the remaining strings (strings of lengths m-1 and n-1) and add 1 to result.\n",
    "- Do not Match : Make two recursive calls. First for lengths m-1 and n, and second for m and n-1. Take the maximum of two results. \n",
    "\n",
    "Base case : If any of the strings become empty, we return 0.\n",
    "\n",
    "For example, consider the input strings s1 = \"ABX\" and s2 = \"ACX\".\n",
    "```\n",
    "LCS(\"ABX\", \"ACX\") = 1 + LCS(\"AB\", \"AC\") [Last Characters Match]\n",
    "LCS(\"AB\", \"AC\") = max( LCS(\"A\", \"AC\") , LCS(\"AB\", \"A\") ) [Last Characters Do Not Match] \n",
    "LCS(\"A\", \"AC\") = max( LCS(\"\", \"AC\") , LCS(\"A\", \"A\") ) = max(0, 1 + LCS(\"\", \"\")) = 1\n",
    "LCS(\"AB\", \"A\") = max( LCS(\"A\", \"A\") , LCS(\"AB\", \"\") ) = max( 1 + LCS(\"\", \"\", 0)) = 1\n",
    "So overall result is 1 + 1 = 2"
   ]
  },
  {
   "cell_type": "code",
   "execution_count": 17,
   "id": "918fcab4",
   "metadata": {},
   "outputs": [
    {
     "name": "stdout",
     "output_type": "stream",
     "text": [
      "4\n"
     ]
    }
   ],
   "source": [
    "# A Naive recursive implementation of LCS problem\n",
    "\n",
    "# Returns length of LCS for s1[0..m-1], s2[0..n-1]\n",
    "def lcsRec(s1, s2, m, n):\n",
    "    # Base Case: If Either string is empty, the length of LCS is 0\n",
    "    if m==0 or n==0:\n",
    "        return 0\n",
    "    \n",
    "    # If last charachter of both string matched\n",
    "    if s1[m-1] == s2[n-1]:\n",
    "        # Include this character in LCS and recur for remaining substrings\n",
    "        return 1 + lcsRec(s1, s2, m-1, n-1)\n",
    "\n",
    "    # If the last characters do not match\n",
    "    # Recur for two cases:\n",
    "    # 1. Exclude the last character of S1 \n",
    "    # 2. Exclude the last character of S2 \n",
    "    # Take the maximum of these two recursive calls\n",
    "    else:\n",
    "        return max(lcsRec(s1, s2, m, n-1), lcsRec(s1, s2, m-1, n))\n",
    "\n",
    "def lcs(s1,s2):\n",
    "    m = len(s1)\n",
    "    n = len(s2)\n",
    "    return lcsRec(s1,s2,m,n)\n",
    "\n",
    "if __name__ == \"__main__\":\n",
    "    s1 = \"AGGTAB\"\n",
    "    s2 = \"GXTXAYB\"\n",
    "    print(lcs(s1, s2))"
   ]
  },
  {
   "cell_type": "markdown",
   "id": "391a9365",
   "metadata": {},
   "source": [
    "## [Better Approach] Using Memoization (Top Down DP) - O(m * n) Time and O(m * n) Space\n",
    "\n",
    "To optimize the recursive solution, we use a 2D memoization table of size (m+1)×(n+1)(m+1) \\times (n+1)(m+1)×(n+1), initialized to −1-1−1 to track computed values. Before making recursive calls, we check this table to avoid redundant computations of overlapping subproblems. This prevents repeated calculations, improving efficiency through memoization or tabulation."
   ]
  },
  {
   "cell_type": "code",
   "execution_count": 18,
   "id": "ed06fbbb",
   "metadata": {},
   "outputs": [
    {
     "name": "stdout",
     "output_type": "stream",
     "text": [
      "4\n"
     ]
    }
   ],
   "source": [
    "def lcsRec(s1, s2, m, n, memo):\n",
    "    # Base Case\n",
    "    if m==0 or n==0:\n",
    "        return 0\n",
    "    \n",
    "    # Memoization: Check if already exists in memo Table\n",
    "    if memo[m][n] != -1:\n",
    "        return memo[m][n]\n",
    "    \n",
    "    # Match\n",
    "    if s1[m-1]==s2[n-1]:\n",
    "        memo[m][n] = 1 + lcsRec(s1, s2, m-1, n-1, memo)\n",
    "        return memo[m][n]\n",
    "\n",
    "    # Do not Match\n",
    "    memo[m][n] = max(lcsRec(s1, s2, m, n-1, memo), \n",
    "                     lcsRec(s1, s2, m-1, n, memo))\n",
    "    \n",
    "    return memo[m][n]\n",
    "\n",
    "def lcs(s1, s2):\n",
    "    m = len(s1)\n",
    "    n = len(s2)\n",
    "    memo = [[-1 for _ in range(n + 1)] for _ in range(m + 1)]\n",
    "    return lcsRec(s1,s2,m,n,memo)\n",
    "    \n",
    "if __name__ == \"__main__\":\n",
    "    s1 = \"AGGTAB\"\n",
    "    s2 = \"GXTXAYB\"\n",
    "    print(lcs(s1, s2))"
   ]
  },
  {
   "cell_type": "markdown",
   "id": "9e67eccb",
   "metadata": {},
   "source": [
    "## [Expected Approach 1] Using Bottom-Up DP (Tabulation) - O(m * n) Time and O(m * n) Space\n",
    "There are two parameters that change in the recursive solution and these parameters go from 0 to m and 0 to n. So we create a 2D dp array of size (m+1) x (n+1).  \n",
    "\n",
    "We first fill the known entries when m is 0 or n is 0.\n",
    "Then we fill the remaining entries using the recursive formula."
   ]
  },
  {
   "cell_type": "code",
   "execution_count": 19,
   "id": "4bf528dd",
   "metadata": {},
   "outputs": [
    {
     "name": "stdout",
     "output_type": "stream",
     "text": [
      "4\n"
     ]
    }
   ],
   "source": [
    "def lcs(s1, s2):\n",
    "    m = len(s1)\n",
    "    n = len(s2)\n",
    "\n",
    "    # Initialising the matric of size (m+1)x(n+1) \n",
    "    dp = [[0]*(n+1) for _ in range(m+1)]\n",
    "\n",
    "    # Building dp[m+1][n+1]in bottom-up fashion\n",
    "    for i in range(1, m+1):\n",
    "        for j in range(1, n+1):\n",
    "            if s1[i-1] == s2[j-1]:\n",
    "                dp[i][j] = dp[i-1][j-1] + 1\n",
    "            else:\n",
    "                dp[i][j] = max(dp[i-1][j],\n",
    "                               dp[i][j-1])\n",
    "                \n",
    "    # dp[m][n] contains length of LCS for S1[0..m-1] and S2[0..n-1]\n",
    "    return dp[m][n]\n",
    "\n",
    "if __name__ == \"__main__\":\n",
    "    S1 = \"AGGTAB\"\n",
    "    S2 = \"GXTXAYB\"\n",
    "    print(lcs(S1, S2))"
   ]
  },
  {
   "cell_type": "markdown",
   "id": "0da3ec48",
   "metadata": {},
   "source": [
    "## A Space Optimized Solution of LCS\n",
    "\n",
    "How to find the length of LCS in O(n) auxiliary space?\n",
    "- One important observation in the above simple implementation is, in each iteration of the outer loop we only need values from all columns of the previous row. So there is no need to store all rows in our dp matrix, we can just store two rows at a time and use them. In that way, used space will be reduced from dp[m+1][n+1] to dp[2][n+1].\n",
    "\n",
    "The recurrence relation for the Longest Common Subsequence (LCS) problem is: \n",
    "\n",
    "If the last character of s1 and s2 match:\n",
    "\n",
    "dp[i][j] = 1 + dp[i-1][j-1]\n",
    "if the last characters of s1 and s2 do not match, we take the maximum of two cases:\n",
    "1. exclude the last character of s1 \n",
    "2. exclude the last char of s2\n",
    "\n",
    "dp[i][j] = max(dp[i-1][j],dp[i][j-1])\n",
    "\n",
    "Base Case: when the length of either s1 or s2 is 0, LCS is 0.\n",
    "for i = 0 or  j = 0 dp[i][j] = 0\n",
    "\n",
    "In the recurrance relation one things that we can observe is for finding the current state dp[i][j]  we don't need to store the entire table, we only need to store the current row and the previous row because each value at position (i, j) in the table only depends on:\n",
    "\n",
    "- The value directly above it (dp[i-1][j]),\n",
    "- The value directly to the left (dp[i][j-1]),\n",
    "- The value diagonally left above it (dp[i-1][j-1]).\n",
    "\n",
    "Since only the previous row and the current row are required to compute the LCS, we can reduce the space complexity by using just two rows instead of the entire table. We use a 2D array of size 2 x (n+1) to store only two rows at a time.\n",
    "We have used two array to store the previous and current row, prev for previous row and  curr for current row, once the iteration for current row is done, we will set prev = curr, so that curr row can serve as prev for next index."
   ]
  },
  {
   "cell_type": "code",
   "execution_count": 20,
   "id": "8508a436",
   "metadata": {},
   "outputs": [
    {
     "name": "stdout",
     "output_type": "stream",
     "text": [
      "4\n"
     ]
    }
   ],
   "source": [
    "def lcs(s1, s2):\n",
    "    # Here n is for lenght of s1 & m is for length of s2\n",
    "    n = len(s1)\n",
    "    m = len(s2)\n",
    "\n",
    "    # Initialize two arrays, 'prev' and 'cur', to store the DP values\n",
    "    prev = [0] * (m + 1)\n",
    "    cur = [0] * (m + 1)\n",
    "\n",
    "    # Loop through the characters of both strings  to compute LCS\n",
    "    for ind1 in range(1, n + 1):\n",
    "        for ind2 in range(1, m + 1):\n",
    "            if s1[ind1 - 1] == s2[ind2 - 1]:\n",
    "                # If the characters match, increment LCS length by 1\n",
    "                cur[ind2] = 1 + prev[ind2 - 1]\n",
    "            else:\n",
    "                # If the characters do not match, take \n",
    "                # the maximum of LCS\n",
    "                # by excluding one character from s1 or s2\n",
    "                cur[ind2] = max(prev[ind2], cur[ind2 - 1])\n",
    "\n",
    "        # Update 'prev' to be the same as 'cur' for the next iteration\n",
    "        prev = cur[:]\n",
    "\n",
    "    # The value in 'prev[m]' represents the length of the Longest Common Subsequence\n",
    "    return prev[m]\n",
    "\n",
    "\n",
    "if __name__ == \"__main__\":\n",
    "    s1 = \"AGGTAB\"\n",
    "    s2 = \"GXTXAYB\"\n",
    "    print(lcs(s1, s2))"
   ]
  },
  {
   "cell_type": "markdown",
   "id": "f3f9ab65",
   "metadata": {},
   "source": [
    "## Using Single Array - O(m*n) Time and O(n) Space\n",
    "\n",
    "In this approach, the space complexity is further optimized by using a single DP array, where: \n",
    "\n",
    "dp[j] represents the value of dp[i-1][j] (previous row's value) before updating. During the computation, dp[j] is updated to represent the current row value dp[i][j]\n",
    "\n",
    "Now the recurrance relations become:\n",
    "\n",
    "- If the characters s1[i-1] and s2[j-1] match, dp[j] = 1+ prev. Here, prev is a temporary variable storing the diagonal value (dp[i-1][j-1]).\n",
    "- If the characters don't match, dp[j] = max(dp[j-1], dp[j]). Here dp[j] represents the value of dp[i-1][j] before updating and dp[j-1] represents the value of dp[i-1][j]. "
   ]
  },
  {
   "cell_type": "code",
   "execution_count": 21,
   "id": "a5e29a1a",
   "metadata": {},
   "outputs": [
    {
     "name": "stdout",
     "output_type": "stream",
     "text": [
      "4\n"
     ]
    }
   ],
   "source": [
    "def lcs(s1, s2):\n",
    "    m = len(s1)\n",
    "    n = len(s2)\n",
    "\n",
    "    dp = [0]*(n+1)\n",
    "\n",
    "    for i in range(1, m+1):\n",
    "        # prev stores the value from the previous row and previous column (i-1), (j -1)\n",
    "        prev = dp[0]\n",
    "        for j in range(1, n+1):\n",
    "            # temp temporarily stores the current dp[j] before it gets updated\n",
    "            temp = dp[j]\n",
    "            if s1[i-1]==s2[j-1]:\n",
    "                dp[j] = 1 + prev\n",
    "            else:\n",
    "                dp[j] = max(dp[j-1], dp[j])\n",
    "\n",
    "            prev = temp\n",
    "\n",
    "    # The last element of the list contains the length of the LCS\n",
    "    return dp[n]\n",
    " \n",
    "if __name__ == \"__main__\":\n",
    "    s1 = \"AGGTAB\"\n",
    "    s2 = \"GXTXAYB\"\n",
    "    res = lcs(s1, s2)\n",
    "    print(res)"
   ]
  }
 ],
 "metadata": {
  "kernelspec": {
   "display_name": "Python 3",
   "language": "python",
   "name": "python3"
  },
  "language_info": {
   "codemirror_mode": {
    "name": "ipython",
    "version": 3
   },
   "file_extension": ".py",
   "mimetype": "text/x-python",
   "name": "python",
   "nbconvert_exporter": "python",
   "pygments_lexer": "ipython3",
   "version": "3.13.3"
  }
 },
 "nbformat": 4,
 "nbformat_minor": 5
}
