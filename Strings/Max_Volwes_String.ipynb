{
 "cells": [
  {
   "cell_type": "markdown",
   "id": "a3b404e9",
   "metadata": {},
   "source": [
    "# Most frequent Vowels and String"
   ]
  },
  {
   "cell_type": "code",
   "execution_count": 5,
   "id": "292f0948",
   "metadata": {},
   "outputs": [
    {
     "data": {
      "text/plain": [
       "6"
      ]
     },
     "execution_count": 5,
     "metadata": {},
     "output_type": "execute_result"
    }
   ],
   "source": [
    "from collections import Counter\n",
    "s = \"successes\"\n",
    "count = Counter(s)\n",
    "\n",
    "vowels = 'aieou'\n",
    "max_vowels = 0\n",
    "max_constant = 0\n",
    "for cnt in count:\n",
    "    if cnt in vowels:\n",
    "        max_vowels = max(max_vowels, count[cnt])\n",
    "    else:\n",
    "        max_constant = max(max_constant, count[cnt])\n",
    "\n",
    "max_vowels+max_constant"
   ]
  }
 ],
 "metadata": {
  "kernelspec": {
   "display_name": "Python 3",
   "language": "python",
   "name": "python3"
  },
  "language_info": {
   "codemirror_mode": {
    "name": "ipython",
    "version": 3
   },
   "file_extension": ".py",
   "mimetype": "text/x-python",
   "name": "python",
   "nbconvert_exporter": "python",
   "pygments_lexer": "ipython3",
   "version": "3.13.3"
  }
 },
 "nbformat": 4,
 "nbformat_minor": 5
}
