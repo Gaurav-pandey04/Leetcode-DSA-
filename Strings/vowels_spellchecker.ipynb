{
 "cells": [
  {
   "cell_type": "markdown",
   "id": "b71cc535",
   "metadata": {},
   "source": [
    "# Vowles Spellchecker"
   ]
  },
  {
   "cell_type": "code",
   "execution_count": 9,
   "id": "b04003d8",
   "metadata": {},
   "outputs": [
    {
     "data": {
      "text/plain": [
       "['kite', 'KiTe', 'KiTe', 'Hare', 'hare', '', '', 'KiTe', '', 'KiTe']"
      ]
     },
     "execution_count": 9,
     "metadata": {},
     "output_type": "execute_result"
    }
   ],
   "source": [
    "wordlist = [\"KiTe\",\"kite\",\"hare\",\"Hare\"]\n",
    "queries = [\"kite\",\"Kite\",\"KiTe\",\"Hare\",\"HARE\",\"Hear\",\"hear\",\"keti\",\"keet\",\"keto\"]\n",
    "\n",
    "vowels = set('aeiou')\n",
    "\n",
    "def mask(word):\n",
    "    return \"\".join('*' if c in vowels else c for c in word.lower())\n",
    "\n",
    "# Excat match set\n",
    "excat = set(wordlist)\n",
    "\n",
    "# Case-insensitive map\n",
    "case_map = {}\n",
    "for word in wordlist:\n",
    "    lw = word.lower()\n",
    "    if lw not in case_map:\n",
    "        case_map[lw] = word\n",
    "\n",
    "# vowels-error map\n",
    "vowel_map = {}\n",
    "for word in wordlist:\n",
    "    m = mask(word)\n",
    "    if m not in vowel_map:\n",
    "        vowel_map[m] = word\n",
    "\n",
    "ans = []\n",
    "for q in queries:\n",
    "    if q in excat:\n",
    "        ans.append(q)       # Excat Match Case\n",
    "    elif q.lower() in case_map:\n",
    "        ans.append(case_map[q.lower()])        # Case-insensitive Map\n",
    "    elif mask(q) in vowel_map:\n",
    "        ans.append(vowel_map[mask(q)])          # Vowel-error Map\n",
    "    else:\n",
    "        ans.append(\"\")\n",
    "\n",
    "ans"
   ]
  }
 ],
 "metadata": {
  "kernelspec": {
   "display_name": "Python 3",
   "language": "python",
   "name": "python3"
  },
  "language_info": {
   "codemirror_mode": {
    "name": "ipython",
    "version": 3
   },
   "file_extension": ".py",
   "mimetype": "text/x-python",
   "name": "python",
   "nbconvert_exporter": "python",
   "pygments_lexer": "ipython3",
   "version": "3.13.3"
  }
 },
 "nbformat": 4,
 "nbformat_minor": 5
}
