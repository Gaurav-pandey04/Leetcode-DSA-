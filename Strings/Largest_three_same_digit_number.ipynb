{
 "cells": [
  {
   "cell_type": "markdown",
   "id": "0d4d554e",
   "metadata": {},
   "source": [
    "# Largest 3 same digit number in String"
   ]
  },
  {
   "cell_type": "code",
   "execution_count": 25,
   "id": "8128ac50",
   "metadata": {},
   "outputs": [
    {
     "name": "stdout",
     "output_type": "stream",
     "text": [
      "777\n"
     ]
    }
   ],
   "source": [
    "num = \"6777133339\"\n",
    "left, right = 0, 3\n",
    "value = 0\n",
    "for i in range(len(num)):\n",
    "    if right <= len(num):\n",
    "        result = ''\n",
    "        result = num[left:right]\n",
    "        for n in range(0, len(result)-1):\n",
    "            if result[n] == result[n+1]:\n",
    "                isSame = True\n",
    "            else:\n",
    "                isSame = False\n",
    "                break\n",
    "        if isSame:\n",
    "            value = max(int(result), value)\n",
    "    left += 1\n",
    "    right += 1\n",
    "\n",
    "if value == 0:\n",
    "    print('000')\n",
    "elif value == None:\n",
    "    print('')\n",
    "else:\n",
    "    print(str(value))"
   ]
  }
 ],
 "metadata": {
  "kernelspec": {
   "display_name": "Python 3",
   "language": "python",
   "name": "python3"
  },
  "language_info": {
   "codemirror_mode": {
    "name": "ipython",
    "version": 3
   },
   "file_extension": ".py",
   "mimetype": "text/x-python",
   "name": "python",
   "nbconvert_exporter": "python",
   "pygments_lexer": "ipython3",
   "version": "3.13.3"
  }
 },
 "nbformat": 4,
 "nbformat_minor": 5
}
