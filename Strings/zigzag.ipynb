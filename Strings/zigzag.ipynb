{
 "cells": [
  {
   "cell_type": "markdown",
   "id": "a1c8779c",
   "metadata": {},
   "source": [
    "# Zigzag conversion"
   ]
  },
  {
   "cell_type": "markdown",
   "id": "8c477463",
   "metadata": {},
   "source": [
    "### Variable declaration"
   ]
  },
  {
   "cell_type": "code",
   "execution_count": 6,
   "id": "171bb23d",
   "metadata": {},
   "outputs": [],
   "source": [
    "s = \"PAYPALISHIRING\"\n",
    "numRows = 3\n",
    "rows = [''] * numRows\n",
    "current_row = 0\n",
    "going_down = False"
   ]
  },
  {
   "cell_type": "markdown",
   "id": "b15432c0",
   "metadata": {},
   "source": [
    "### Logic"
   ]
  },
  {
   "cell_type": "code",
   "execution_count": 7,
   "id": "116beddd",
   "metadata": {},
   "outputs": [
    {
     "name": "stdout",
     "output_type": "stream",
     "text": [
      "PAHNAPLSIIGYIR\n"
     ]
    }
   ],
   "source": [
    "if numRows == 1 or numRows >= len(s):\n",
    "    print(s)\n",
    "\n",
    "for char in s:\n",
    "    rows[current_row] += char\n",
    "    if current_row == 0 or current_row == numRows-1:\n",
    "        going_down = not going_down\n",
    "    current_row += 1 if going_down else -1\n",
    "\n",
    "print(''.join(rows))"
   ]
  },
  {
   "cell_type": "markdown",
   "id": "30aa2de3",
   "metadata": {},
   "source": [
    "## Explanation"
   ]
  },
  {
   "cell_type": "markdown",
   "id": "7be6aa86",
   "metadata": {},
   "source": [
    "1. Create a list of strings, one for each row.\n",
    "2.\tIterate through the input string, appending each character to the correct row:\n",
    "    - Use a variable `current_row` to know which row the character goes into.\n",
    "    - Use a flag `going_down` to determine whether you’re moving down or up the rows.\n",
    "3.\tAfter filling row-wise, concatenate all row strings."
   ]
  }
 ],
 "metadata": {
  "kernelspec": {
   "display_name": "Python 3",
   "language": "python",
   "name": "python3"
  },
  "language_info": {
   "codemirror_mode": {
    "name": "ipython",
    "version": 3
   },
   "file_extension": ".py",
   "mimetype": "text/x-python",
   "name": "python",
   "nbconvert_exporter": "python",
   "pygments_lexer": "ipython3",
   "version": "3.13.3"
  }
 },
 "nbformat": 4,
 "nbformat_minor": 5
}
