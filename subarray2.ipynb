{
 "cells": [
  {
   "cell_type": "code",
   "execution_count": 46,
   "id": "c1036d2f",
   "metadata": {},
   "outputs": [],
   "source": [
    "nums = [1,0,2,1,3]\n",
    "n = len(nums)\n",
    "answer = [0] * n\n",
    "prev_or = {}"
   ]
  },
  {
   "cell_type": "code",
   "execution_count": 49,
   "id": "a914db5c",
   "metadata": {},
   "outputs": [
    {
     "name": "stdout",
     "output_type": "stream",
     "text": [
      "Current OR:  {3: 1}\n",
      "Current OR:  {3: 1}\n",
      "Current OR:  {3: 1}\n",
      "Current OR:  {1: 1}\n",
      "Current OR:  {1: 1, 3: 2}\n",
      "Current OR:  {2: 1}\n",
      "Current OR:  {2: 1, 3: 2}\n",
      "Current OR:  {2: 1, 3: 2}\n",
      "Current OR:  {0: 1}\n",
      "Current OR:  {0: 1, 2: 2}\n",
      "Current OR:  {0: 1, 2: 2, 3: 3}\n",
      "Current OR:  {1: 1}\n",
      "Current OR:  {1: 1}\n",
      "Current OR:  {1: 1, 3: 3}\n",
      "Current OR:  {1: 1, 3: 3}\n"
     ]
    }
   ],
   "source": [
    "for i in range(n - 1, -1, -1):\n",
    "    curr_or = {nums[i]: 1}\n",
    "    print(\"Current OR: \", curr_or)\n",
    "\n",
    "    # Extend previous OR values with nums[i]\n",
    "    for val, length in prev_or.items():\n",
    "        new_or = val | nums[i]\n",
    "        if new_or not in curr_or:\n",
    "            curr_or[new_or] = length + 1\n",
    "        else:\n",
    "            curr_or[new_or] = min(curr_or[new_or], length + 1)\n",
    "\n",
    "        print(\"Current OR: \", curr_or)\n",
    "    # Get max OR and its corresponding minimal subarray length\n",
    "    max_or = max(curr_or.keys())\n",
    "    answer[i] = curr_or[max_or]\n",
    "\n",
    "    # Update for the next iteration\n",
    "    prev_or = curr_or\n",
    "\n",
    "# print(answer)"
   ]
  }
 ],
 "metadata": {
  "kernelspec": {
   "display_name": "Python 3",
   "language": "python",
   "name": "python3"
  },
  "language_info": {
   "codemirror_mode": {
    "name": "ipython",
    "version": 3
   },
   "file_extension": ".py",
   "mimetype": "text/x-python",
   "name": "python",
   "nbconvert_exporter": "python",
   "pygments_lexer": "ipython3",
   "version": "3.13.3"
  }
 },
 "nbformat": 4,
 "nbformat_minor": 5
}
